{
 "cells": [
  {
   "cell_type": "markdown",
   "metadata": {},
   "source": [
    "# Distributions"
   ]
  },
  {
   "cell_type": "code",
   "execution_count": 3,
   "metadata": {},
   "outputs": [],
   "source": [
    "# !pip install sportsreference\n",
    "# print('none')"
   ]
  },
  {
   "cell_type": "code",
   "execution_count": 40,
   "metadata": {},
   "outputs": [],
   "source": [
    "first_team = teams[0]"
   ]
  },
  {
   "cell_type": "code",
   "execution_count": 41,
   "metadata": {},
   "outputs": [],
   "source": [
    "first_roster = first_team.roster"
   ]
  },
  {
   "cell_type": "code",
   "execution_count": 51,
   "metadata": {},
   "outputs": [],
   "source": [
    "first_player = first_roster.players[0]"
   ]
  },
  {
   "cell_type": "code",
   "execution_count": 69,
   "metadata": {},
   "outputs": [],
   "source": [
    "def get_height_in_inches(height):\n",
    "    feet, inches = height.split('-')\n",
    "    return int(feet) * 12 + int(inches)"
   ]
  },
  {
   "cell_type": "code",
   "execution_count": 71,
   "metadata": {},
   "outputs": [],
   "source": [
    "height_inches = df_updated.loc[:, 'height'].map(get_height_in_inches)"
   ]
  },
  {
   "cell_type": "code",
   "execution_count": 72,
   "metadata": {},
   "outputs": [
    {
     "data": {
      "text/plain": [
       "0    82\n",
       "1    77\n",
       "Name: height, dtype: int64"
      ]
     },
     "execution_count": 72,
     "metadata": {},
     "output_type": "execute_result"
    }
   ],
   "source": [
    "height_inches[:2]"
   ]
  },
  {
   "cell_type": "code",
   "execution_count": 74,
   "metadata": {},
   "outputs": [],
   "source": [
    "df_updated['height'] = height_inches"
   ]
  },
  {
   "cell_type": "code",
   "execution_count": 79,
   "metadata": {},
   "outputs": [],
   "source": [
    "import numpy as np\n",
    "weight = df_updated['weight'].str[:-2].astype(np.int64)"
   ]
  },
  {
   "cell_type": "code",
   "execution_count": 82,
   "metadata": {},
   "outputs": [],
   "source": [
    "df_updated['weight'] = weight"
   ]
  },
  {
   "cell_type": "code",
   "execution_count": 89,
   "metadata": {},
   "outputs": [],
   "source": [
    "birth_dates = df_updated.birth_date.astype(np.datetime64)"
   ]
  },
  {
   "cell_type": "code",
   "execution_count": 93,
   "metadata": {},
   "outputs": [],
   "source": [
    "df_updated['birth_dates'] = birth_dates"
   ]
  },
  {
   "cell_type": "code",
   "execution_count": 97,
   "metadata": {},
   "outputs": [],
   "source": [
    "df_updated = df_updated.drop(columns = ['birth_dates'])"
   ]
  },
  {
   "cell_type": "code",
   "execution_count": 99,
   "metadata": {},
   "outputs": [],
   "source": [
    "df_updated['birth_date'] = birth_dates"
   ]
  },
  {
   "cell_type": "code",
   "execution_count": 109,
   "metadata": {},
   "outputs": [
    {
     "data": {
      "text/plain": [
       "Index(['player_id', 'name', 'weight', 'birth_date', 'height', 'nationality',\n",
       "       'team_abbreviation', 'most_recent_season', 'box_plus_minus',\n",
       "       'games_played', 'games_started', 'player_efficiency_rating',\n",
       "       'three_point_percentage', 'true_shooting_percentage',\n",
       "       'two_point_attempts', 'two_point_percentage', 'two_pointers'],\n",
       "      dtype='object')"
      ]
     },
     "execution_count": 109,
     "metadata": {},
     "output_type": "execute_result"
    }
   ],
   "source": [
    "df_updated.columns"
   ]
  },
  {
   "cell_type": "code",
   "execution_count": 113,
   "metadata": {},
   "outputs": [],
   "source": [
    "df_num_series = df_updated.loc[: , 'box_plus_minus':'two_pointers'].apply(lambda x: pd.to_numeric(x))"
   ]
  },
  {
   "cell_type": "code",
   "execution_count": 118,
   "metadata": {},
   "outputs": [],
   "source": [
    "df_updated.loc[: , 'box_plus_minus':'two_pointers'] = df_num_series"
   ]
  },
  {
   "cell_type": "code",
   "execution_count": 135,
   "metadata": {},
   "outputs": [],
   "source": [
    "years = df_updated['most_recent_season'].str.split('-').map(lambda x: x[-1])"
   ]
  },
  {
   "cell_type": "code",
   "execution_count": 138,
   "metadata": {},
   "outputs": [],
   "source": [
    "year_nums = pd.to_numeric(years)"
   ]
  },
  {
   "cell_type": "code",
   "execution_count": 141,
   "metadata": {},
   "outputs": [],
   "source": [
    "years_updated = year_nums + 2000"
   ]
  },
  {
   "cell_type": "code",
   "execution_count": 149,
   "metadata": {},
   "outputs": [],
   "source": [
    "years_updated = years_updated.fillna(2019)"
   ]
  },
  {
   "cell_type": "code",
   "execution_count": 151,
   "metadata": {},
   "outputs": [],
   "source": [
    "years_updated = pd.to_numeric(years_updated)"
   ]
  },
  {
   "cell_type": "code",
   "execution_count": 153,
   "metadata": {},
   "outputs": [],
   "source": [
    "df_updated['most_recent_season'] = years_updated"
   ]
  },
  {
   "cell_type": "code",
   "execution_count": 155,
   "metadata": {},
   "outputs": [],
   "source": [
    "df_updated.to_csv('./nba_players_clean.csv')"
   ]
  },
  {
   "cell_type": "code",
   "execution_count": 1,
   "metadata": {},
   "outputs": [],
   "source": [
    "from sportsreference.nba.teams import Teams"
   ]
  },
  {
   "cell_type": "code",
   "execution_count": 2,
   "metadata": {},
   "outputs": [],
   "source": [
    "rosters = [team.roster for team in Teams()]"
   ]
  },
  {
   "cell_type": "code",
   "execution_count": 8,
   "metadata": {},
   "outputs": [],
   "source": [
    "def get_players_from_rosters(rosters):\n",
    "    players = []\n",
    "    for roster in rosters:\n",
    "        r_players = roster.players\n",
    "        players = players + r_players\n",
    "    return players"
   ]
  },
  {
   "cell_type": "code",
   "execution_count": null,
   "metadata": {},
   "outputs": [],
   "source": [
    "import pandas as pd\n",
    "df = pd.read_csv('nba_players_clean.csv')"
   ]
  },
  {
   "cell_type": "code",
   "execution_count": 9,
   "metadata": {},
   "outputs": [],
   "source": [
    "players = get_players_from_rosters(rosters)"
   ]
  },
  {
   "cell_type": "code",
   "execution_count": 60,
   "metadata": {},
   "outputs": [],
   "source": [
    "def get_contract(player):\n",
    "    if player['_contract']:\n",
    "        return player['_contract']['2019-20']\n",
    "    else:\n",
    "        return ''"
   ]
  },
  {
   "cell_type": "code",
   "execution_count": 61,
   "metadata": {},
   "outputs": [],
   "source": [
    "def get_position(player):\n",
    "    if player['_position']:\n",
    "        return player['_position'][-2]\n",
    "    else:\n",
    "        return ''"
   ]
  },
  {
   "cell_type": "code",
   "execution_count": null,
   "metadata": {},
   "outputs": [],
   "source": []
  },
  {
   "cell_type": "code",
   "execution_count": 38,
   "metadata": {},
   "outputs": [],
   "source": [
    "game_attrs = ['_total_rebounds', '_assists', '_steals', \n",
    "              '_blocks', '_turnovers',\n",
    "              '_personal_fouls', '_points',\n",
    "              '_free_throw_percentage', '_three_pointers',\n",
    "              '_three_point_attempts']"
   ]
  },
  {
   "cell_type": "code",
   "execution_count": 42,
   "metadata": {},
   "outputs": [],
   "source": [
    "player = players[0].__dict__"
   ]
  },
  {
   "cell_type": "code",
   "execution_count": 53,
   "metadata": {},
   "outputs": [],
   "source": [
    "# {k:v[-1] for k, v in player.items() if k in game_attrs}"
   ]
  },
  {
   "cell_type": "code",
   "execution_count": 46,
   "metadata": {},
   "outputs": [],
   "source": [
    "# players[0].__dict__"
   ]
  },
  {
   "cell_type": "code",
   "execution_count": 47,
   "metadata": {},
   "outputs": [],
   "source": [
    "selected_attrs = ['_name', '_height', '_weight', '_birth_date',\n",
    "                  '_nationality', '_most_recent_season', '_player_id']\n",
    "points_attrs =['_games_started', '_games_played', '_player_efficiency_rating',\n",
    "               '_box_plus_minus', \n",
    "               '_three_point_percentage', '_two_pointers', '_two_point_attempts',\n",
    "               '_two_point_percentage', '_true_shooting_percentage',  '_team_abbreviation',\n",
    "               '_total_rebounds', '_assists', '_steals', \n",
    "              '_blocks', '_turnovers',\n",
    "              '_personal_fouls', '_points',\n",
    "              '_free_throw_percentage', '_three_pointers',\n",
    "              '_three_point_attempts'\n",
    "              ]\n",
    "def get_value(v): \n",
    "    if v is None:\n",
    "        return ''\n",
    "    else:\n",
    "        return v[-2]\n",
    "\n",
    "def build_select_attrs(player, select_attrs, points_attrs):\n",
    "    player_items = player.__dict__.items()\n",
    "    player_attrs = {k[1:]:v for k, v in \n",
    "                    player_items \n",
    "                if k in selected_attrs}\n",
    "    stats_player = {k[1:]:get_value(v) for k, v in \n",
    "                    player_items\n",
    "                if k in points_attrs}\n",
    "    player_attrs.update(stats_player)\n",
    "    return player_attrs\n",
    "\n",
    "player_dicts = []\n",
    "\n",
    "\n",
    "team_players = [build_select_attrs(player, selected_attrs, points_attrs) for player in players]\n"
   ]
  },
  {
   "cell_type": "code",
   "execution_count": 62,
   "metadata": {},
   "outputs": [],
   "source": [
    "for player, team_player in zip(players,team_players):\n",
    "    contract = get_contract(player.__dict__)\n",
    "    position = get_position(player.__dict__)\n",
    "    team_player['contract']  = contract\n",
    "    team_player['position']  = position"
   ]
  },
  {
   "cell_type": "code",
   "execution_count": 64,
   "metadata": {},
   "outputs": [],
   "source": [
    "import pandas as pd\n",
    "df = pd.DataFrame(team_players)"
   ]
  },
  {
   "cell_type": "code",
   "execution_count": 65,
   "metadata": {},
   "outputs": [],
   "source": [
    "df.to_csv('./players_stats.csv')"
   ]
  },
  {
   "cell_type": "code",
   "execution_count": 54,
   "metadata": {},
   "outputs": [],
   "source": [
    "abbrevs = [player.__dict__['_team_abbreviation'] for player in players]"
   ]
  },
  {
   "cell_type": "code",
   "execution_count": 56,
   "metadata": {},
   "outputs": [],
   "source": [
    "team_names = [get_value(abbrev) for abbrev in abbrevs]"
   ]
  },
  {
   "cell_type": "code",
   "execution_count": 58,
   "metadata": {},
   "outputs": [],
   "source": [
    "teams_col = pd.Series(team_names)"
   ]
  },
  {
   "cell_type": "code",
   "execution_count": 37,
   "metadata": {},
   "outputs": [],
   "source": [
    "import pandas as pd\n",
    "df = pd.DataFrame(team_players)"
   ]
  },
  {
   "cell_type": "code",
   "execution_count": 59,
   "metadata": {},
   "outputs": [],
   "source": [
    "df['team_abbreviation'] = team_names"
   ]
  },
  {
   "cell_type": "code",
   "execution_count": 40,
   "metadata": {},
   "outputs": [],
   "source": [
    "cols = ['player_id', 'name', 'weight', 'birth_date', 'height', 'nationality',\n",
    " 'team_abbreviation', 'most_recent_season', 'box_plus_minus', 'games_played', 'games_started',\n",
    "'player_efficiency_rating', 'three_point_percentage', 'true_shooting_percentage', 'two_point_attempts',\n",
    " 'two_point_percentage', 'two_pointers']"
   ]
  },
  {
   "cell_type": "code",
   "execution_count": 61,
   "metadata": {},
   "outputs": [],
   "source": [
    "df_updated = df.loc[:, cols]"
   ]
  },
  {
   "cell_type": "code",
   "execution_count": 62,
   "metadata": {},
   "outputs": [],
   "source": [
    "df_updated.to_csv('./nba_players.csv')"
   ]
  },
  {
   "cell_type": "code",
   "execution_count": null,
   "metadata": {},
   "outputs": [],
   "source": [
    "\n",
    "# name, height, weight, birth_date, nationality\n",
    "# assists, steals, blocks, turnovers, points \n",
    "# contract': {'2019-20': '$8,000,000, '2020-21': '$8,250,000\n",
    "# games_started\n",
    "# games_played\n",
    "# player_efficiency_rating\n",
    "# box_plus_minus\n",
    "# klebima01\n",
    "# three_point_attempts': ['128', '218', '286', '632'],\n",
    "#  '_three_point_percentage': ['.313', '.353', '.374', '.354'],\n",
    "#  '_two_pointers': ['111', '98', '107', '316'],\n",
    "#  '_two_point_attempts': ['181', '168', '180', '529'],\n",
    "#  '_two_point_percentage': ['.613', '.583', '.594', '.597'],\n",
    "# _true_shooting_percentage': ['.576', '.579', '.603', '.588']"
   ]
  },
  {
   "cell_type": "code",
   "execution_count": 18,
   "metadata": {},
   "outputs": [],
   "source": [
    "players = [{'name': name, 'height': height} for name, height in team_heights.items()]"
   ]
  },
  {
   "cell_type": "code",
   "execution_count": 20,
   "metadata": {},
   "outputs": [],
   "source": [
    "import pandas as pd \n",
    "df = pd.DataFrame(players)"
   ]
  },
  {
   "cell_type": "code",
   "execution_count": 32,
   "metadata": {},
   "outputs": [
    {
     "data": {
      "text/plain": [
       "(16, 2)"
      ]
     },
     "execution_count": 32,
     "metadata": {},
     "output_type": "execute_result"
    }
   ],
   "source": [
    "df[['name', 'height']].shape"
   ]
  },
  {
   "cell_type": "code",
   "execution_count": 21,
   "metadata": {},
   "outputs": [],
   "source": [
    "df.to_csv('./player_heights.csv')"
   ]
  },
  {
   "cell_type": "code",
   "execution_count": 22,
   "metadata": {},
   "outputs": [],
   "source": [
    "import pandas as pd"
   ]
  },
  {
   "cell_type": "code",
   "execution_count": 26,
   "metadata": {},
   "outputs": [],
   "source": [
    "df = pd.read_csv('./player_heights.csv', index_col = 0)"
   ]
  },
  {
   "cell_type": "code",
   "execution_count": 27,
   "metadata": {},
   "outputs": [
    {
     "data": {
      "text/html": [
       "<div>\n",
       "<style scoped>\n",
       "    .dataframe tbody tr th:only-of-type {\n",
       "        vertical-align: middle;\n",
       "    }\n",
       "\n",
       "    .dataframe tbody tr th {\n",
       "        vertical-align: top;\n",
       "    }\n",
       "\n",
       "    .dataframe thead th {\n",
       "        text-align: right;\n",
       "    }\n",
       "</style>\n",
       "<table border=\"1\" class=\"dataframe\">\n",
       "  <thead>\n",
       "    <tr style=\"text-align: right;\">\n",
       "      <th></th>\n",
       "      <th>height</th>\n",
       "      <th>name</th>\n",
       "    </tr>\n",
       "  </thead>\n",
       "  <tbody>\n",
       "    <tr>\n",
       "      <th>0</th>\n",
       "      <td>78</td>\n",
       "      <td>Miles Bridges</td>\n",
       "    </tr>\n",
       "    <tr>\n",
       "      <th>1</th>\n",
       "      <td>73</td>\n",
       "      <td>Devonte' Graham</td>\n",
       "    </tr>\n",
       "  </tbody>\n",
       "</table>\n",
       "</div>"
      ],
      "text/plain": [
       "   height             name\n",
       "0      78    Miles Bridges\n",
       "1      73  Devonte' Graham"
      ]
     },
     "execution_count": 27,
     "metadata": {},
     "output_type": "execute_result"
    }
   ],
   "source": [
    "df[:2]"
   ]
  },
  {
   "cell_type": "markdown",
   "metadata": {},
   "source": [
    "### Finding distributions"
   ]
  },
  {
   "cell_type": "markdown",
   "metadata": {},
   "source": [
    "Given a simple random sample of different members of a population, what is the distribution?"
   ]
  },
  {
   "cell_type": "code",
   "execution_count": null,
   "metadata": {},
   "outputs": [],
   "source": []
  }
 ],
 "metadata": {
  "kernelspec": {
   "display_name": "Python 3",
   "language": "python",
   "name": "python3"
  },
  "language_info": {
   "codemirror_mode": {
    "name": "ipython",
    "version": 3
   },
   "file_extension": ".py",
   "mimetype": "text/x-python",
   "name": "python",
   "nbconvert_exporter": "python",
   "pygments_lexer": "ipython3",
   "version": "3.7.4"
  }
 },
 "nbformat": 4,
 "nbformat_minor": 4
}
