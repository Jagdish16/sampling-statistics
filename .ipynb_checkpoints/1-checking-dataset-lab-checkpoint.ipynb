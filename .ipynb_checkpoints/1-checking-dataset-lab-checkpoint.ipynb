{
 "cells": [
  {
   "cell_type": "markdown",
   "metadata": {},
   "source": [
    "# Analyzing Education Statistics"
   ]
  },
  {
   "cell_type": "markdown",
   "metadata": {},
   "source": [
    "### Introduction"
   ]
  },
  {
   "cell_type": "markdown",
   "metadata": {},
   "source": [
    "To get a sense of [NY State math exam](https://data.cityofnewyork.us/Education/2013-2015-New-York-State-Mathematics-Exam-by-Schoo/gcvr-n8qw)."
   ]
  },
  {
   "cell_type": "markdown",
   "metadata": {},
   "source": [
    "### Exploring the Dataset"
   ]
  },
  {
   "cell_type": "markdown",
   "metadata": {},
   "source": [
    "Now that we've identified a candidate dataset where we have close to the population of NY school students represented, let's begin to explore this data."
   ]
  },
  {
   "cell_type": "markdown",
   "metadata": {},
   "source": [
    "As a broad first step, we should still aim to check our assumption that this dataset does a good job of capturing the data of NYC city schools.  In checking this we have two questions:\n",
    "\n",
    "1. Do we have all students from a school?\n",
    "2. Do we have all schools?"
   ]
  },
  {
   "cell_type": "markdown",
   "metadata": {},
   "source": [
    "> Of the two questions, which do you think is more important to satisify?   In my opinion, one is more important than the other."
   ]
  },
  {
   "cell_type": "code",
   "execution_count": 1,
   "metadata": {},
   "outputs": [],
   "source": [
    "import pandas as pd\n",
    "\n",
    "df = pd.read_csv('./state_math_exam_by_school.csv')"
   ]
  },
  {
   "cell_type": "code",
   "execution_count": 2,
   "metadata": {},
   "outputs": [
    {
     "data": {
      "text/html": [
       "<div>\n",
       "<style scoped>\n",
       "    .dataframe tbody tr th:only-of-type {\n",
       "        vertical-align: middle;\n",
       "    }\n",
       "\n",
       "    .dataframe tbody tr th {\n",
       "        vertical-align: top;\n",
       "    }\n",
       "\n",
       "    .dataframe thead th {\n",
       "        text-align: right;\n",
       "    }\n",
       "</style>\n",
       "<table border=\"1\" class=\"dataframe\">\n",
       "  <thead>\n",
       "    <tr style=\"text-align: right;\">\n",
       "      <th></th>\n",
       "      <th>DBN</th>\n",
       "      <th>School Name</th>\n",
       "      <th>Grade</th>\n",
       "      <th>Year</th>\n",
       "      <th>Category</th>\n",
       "      <th>Number Tested</th>\n",
       "      <th>Mean Scale Score</th>\n",
       "      <th># Level 1</th>\n",
       "      <th>% Level 1</th>\n",
       "      <th># Level 2</th>\n",
       "      <th>% Level 2</th>\n",
       "      <th># Level 3</th>\n",
       "      <th>% Level 3</th>\n",
       "      <th># Level 4</th>\n",
       "      <th>% Level 4</th>\n",
       "      <th># Level 3+4</th>\n",
       "      <th>% Level 3+4</th>\n",
       "    </tr>\n",
       "  </thead>\n",
       "  <tbody>\n",
       "    <tr>\n",
       "      <th>0</th>\n",
       "      <td>01M015</td>\n",
       "      <td>P.S. 015 ROBERTO CLEMENTE</td>\n",
       "      <td>3</td>\n",
       "      <td>2013</td>\n",
       "      <td>All Students</td>\n",
       "      <td>27</td>\n",
       "      <td>278.0</td>\n",
       "      <td>16.0</td>\n",
       "      <td>59.3</td>\n",
       "      <td>11.0</td>\n",
       "      <td>40.7</td>\n",
       "      <td>0.0</td>\n",
       "      <td>0.0</td>\n",
       "      <td>0.0</td>\n",
       "      <td>0.0</td>\n",
       "      <td>0.0</td>\n",
       "      <td>0.0</td>\n",
       "    </tr>\n",
       "    <tr>\n",
       "      <th>1</th>\n",
       "      <td>01M015</td>\n",
       "      <td>P.S. 015 ROBERTO CLEMENTE</td>\n",
       "      <td>3</td>\n",
       "      <td>2014</td>\n",
       "      <td>All Students</td>\n",
       "      <td>18</td>\n",
       "      <td>286.0</td>\n",
       "      <td>6.0</td>\n",
       "      <td>33.3</td>\n",
       "      <td>9.0</td>\n",
       "      <td>50.0</td>\n",
       "      <td>2.0</td>\n",
       "      <td>11.1</td>\n",
       "      <td>1.0</td>\n",
       "      <td>5.6</td>\n",
       "      <td>3.0</td>\n",
       "      <td>16.7</td>\n",
       "    </tr>\n",
       "    <tr>\n",
       "      <th>2</th>\n",
       "      <td>01M015</td>\n",
       "      <td>P.S. 015 ROBERTO CLEMENTE</td>\n",
       "      <td>3</td>\n",
       "      <td>2015</td>\n",
       "      <td>All Students</td>\n",
       "      <td>17</td>\n",
       "      <td>280.0</td>\n",
       "      <td>10.0</td>\n",
       "      <td>58.8</td>\n",
       "      <td>4.0</td>\n",
       "      <td>23.5</td>\n",
       "      <td>2.0</td>\n",
       "      <td>11.8</td>\n",
       "      <td>1.0</td>\n",
       "      <td>5.9</td>\n",
       "      <td>3.0</td>\n",
       "      <td>17.6</td>\n",
       "    </tr>\n",
       "    <tr>\n",
       "      <th>3</th>\n",
       "      <td>01M015</td>\n",
       "      <td>P.S. 015 ROBERTO CLEMENTE</td>\n",
       "      <td>4</td>\n",
       "      <td>2013</td>\n",
       "      <td>All Students</td>\n",
       "      <td>20</td>\n",
       "      <td>277.0</td>\n",
       "      <td>12.0</td>\n",
       "      <td>60.0</td>\n",
       "      <td>6.0</td>\n",
       "      <td>30.0</td>\n",
       "      <td>1.0</td>\n",
       "      <td>5.0</td>\n",
       "      <td>1.0</td>\n",
       "      <td>5.0</td>\n",
       "      <td>2.0</td>\n",
       "      <td>10.0</td>\n",
       "    </tr>\n",
       "    <tr>\n",
       "      <th>4</th>\n",
       "      <td>01M015</td>\n",
       "      <td>P.S. 015 ROBERTO CLEMENTE</td>\n",
       "      <td>4</td>\n",
       "      <td>2014</td>\n",
       "      <td>All Students</td>\n",
       "      <td>24</td>\n",
       "      <td>282.0</td>\n",
       "      <td>9.0</td>\n",
       "      <td>37.5</td>\n",
       "      <td>14.0</td>\n",
       "      <td>58.3</td>\n",
       "      <td>1.0</td>\n",
       "      <td>4.2</td>\n",
       "      <td>0.0</td>\n",
       "      <td>0.0</td>\n",
       "      <td>1.0</td>\n",
       "      <td>4.2</td>\n",
       "    </tr>\n",
       "  </tbody>\n",
       "</table>\n",
       "</div>"
      ],
      "text/plain": [
       "      DBN                School Name Grade  Year      Category  Number Tested  \\\n",
       "0  01M015  P.S. 015 ROBERTO CLEMENTE     3  2013  All Students             27   \n",
       "1  01M015  P.S. 015 ROBERTO CLEMENTE     3  2014  All Students             18   \n",
       "2  01M015  P.S. 015 ROBERTO CLEMENTE     3  2015  All Students             17   \n",
       "3  01M015  P.S. 015 ROBERTO CLEMENTE     4  2013  All Students             20   \n",
       "4  01M015  P.S. 015 ROBERTO CLEMENTE     4  2014  All Students             24   \n",
       "\n",
       "   Mean Scale Score  # Level 1  % Level 1  # Level 2  % Level 2  # Level 3  \\\n",
       "0             278.0       16.0       59.3       11.0       40.7        0.0   \n",
       "1             286.0        6.0       33.3        9.0       50.0        2.0   \n",
       "2             280.0       10.0       58.8        4.0       23.5        2.0   \n",
       "3             277.0       12.0       60.0        6.0       30.0        1.0   \n",
       "4             282.0        9.0       37.5       14.0       58.3        1.0   \n",
       "\n",
       "   % Level 3  # Level 4  % Level 4  # Level 3+4  % Level 3+4  \n",
       "0        0.0        0.0        0.0          0.0          0.0  \n",
       "1       11.1        1.0        5.6          3.0         16.7  \n",
       "2       11.8        1.0        5.9          3.0         17.6  \n",
       "3        5.0        1.0        5.0          2.0         10.0  \n",
       "4        4.2        0.0        0.0          1.0          4.2  "
      ]
     },
     "execution_count": 2,
     "metadata": {},
     "output_type": "execute_result"
    }
   ],
   "source": [
    "df[:5]"
   ]
  },
  {
   "cell_type": "markdown",
   "metadata": {},
   "source": [
    "### Clean and Reduce our Data"
   ]
  },
  {
   "cell_type": "markdown",
   "metadata": {},
   "source": [
    "Before answering these questions, let's begin to reduce, and then clean some of our data.\n",
    "\n",
    "To start, we may be able to get rid of some columns.  The # Level, and % Level is repeated information.  If we have the number and the total, we can calculate the level.\n",
    "\n",
    "Start by collecting all of the percent columns, then we'll drop them."
   ]
  },
  {
   "cell_type": "code",
   "execution_count": 3,
   "metadata": {},
   "outputs": [
    {
     "data": {
      "text/plain": [
       "['% Level 1', '% Level 2', '% Level 3', '% Level 4', '% Level 3+4']"
      ]
     },
     "execution_count": 3,
     "metadata": {},
     "output_type": "execute_result"
    }
   ],
   "source": [
    "percent_cols = [col for col in df.columns if '%' in col]\n",
    "percent_cols\n",
    "# ['% Level 1', '% Level 2', '% Level 3', '% Level 4', '% Level 3+4']"
   ]
  },
  {
   "cell_type": "code",
   "execution_count": 4,
   "metadata": {},
   "outputs": [],
   "source": [
    "df_no_percent = df.drop(columns = percent_cols)"
   ]
  },
  {
   "cell_type": "code",
   "execution_count": 5,
   "metadata": {},
   "outputs": [
    {
     "data": {
      "text/html": [
       "<div>\n",
       "<style scoped>\n",
       "    .dataframe tbody tr th:only-of-type {\n",
       "        vertical-align: middle;\n",
       "    }\n",
       "\n",
       "    .dataframe tbody tr th {\n",
       "        vertical-align: top;\n",
       "    }\n",
       "\n",
       "    .dataframe thead th {\n",
       "        text-align: right;\n",
       "    }\n",
       "</style>\n",
       "<table border=\"1\" class=\"dataframe\">\n",
       "  <thead>\n",
       "    <tr style=\"text-align: right;\">\n",
       "      <th></th>\n",
       "      <th>DBN</th>\n",
       "      <th>School Name</th>\n",
       "      <th>Grade</th>\n",
       "      <th>Year</th>\n",
       "      <th>Category</th>\n",
       "      <th>Number Tested</th>\n",
       "      <th>Mean Scale Score</th>\n",
       "      <th># Level 1</th>\n",
       "      <th># Level 2</th>\n",
       "      <th># Level 3</th>\n",
       "      <th># Level 4</th>\n",
       "      <th># Level 3+4</th>\n",
       "    </tr>\n",
       "  </thead>\n",
       "  <tbody>\n",
       "    <tr>\n",
       "      <th>0</th>\n",
       "      <td>01M015</td>\n",
       "      <td>P.S. 015 ROBERTO CLEMENTE</td>\n",
       "      <td>3</td>\n",
       "      <td>2013</td>\n",
       "      <td>All Students</td>\n",
       "      <td>27</td>\n",
       "      <td>278.0</td>\n",
       "      <td>16.0</td>\n",
       "      <td>11.0</td>\n",
       "      <td>0.0</td>\n",
       "      <td>0.0</td>\n",
       "      <td>0.0</td>\n",
       "    </tr>\n",
       "    <tr>\n",
       "      <th>1</th>\n",
       "      <td>01M015</td>\n",
       "      <td>P.S. 015 ROBERTO CLEMENTE</td>\n",
       "      <td>3</td>\n",
       "      <td>2014</td>\n",
       "      <td>All Students</td>\n",
       "      <td>18</td>\n",
       "      <td>286.0</td>\n",
       "      <td>6.0</td>\n",
       "      <td>9.0</td>\n",
       "      <td>2.0</td>\n",
       "      <td>1.0</td>\n",
       "      <td>3.0</td>\n",
       "    </tr>\n",
       "    <tr>\n",
       "      <th>2</th>\n",
       "      <td>01M015</td>\n",
       "      <td>P.S. 015 ROBERTO CLEMENTE</td>\n",
       "      <td>3</td>\n",
       "      <td>2015</td>\n",
       "      <td>All Students</td>\n",
       "      <td>17</td>\n",
       "      <td>280.0</td>\n",
       "      <td>10.0</td>\n",
       "      <td>4.0</td>\n",
       "      <td>2.0</td>\n",
       "      <td>1.0</td>\n",
       "      <td>3.0</td>\n",
       "    </tr>\n",
       "  </tbody>\n",
       "</table>\n",
       "</div>"
      ],
      "text/plain": [
       "      DBN                School Name Grade  Year      Category  Number Tested  \\\n",
       "0  01M015  P.S. 015 ROBERTO CLEMENTE     3  2013  All Students             27   \n",
       "1  01M015  P.S. 015 ROBERTO CLEMENTE     3  2014  All Students             18   \n",
       "2  01M015  P.S. 015 ROBERTO CLEMENTE     3  2015  All Students             17   \n",
       "\n",
       "   Mean Scale Score  # Level 1  # Level 2  # Level 3  # Level 4  # Level 3+4  \n",
       "0             278.0       16.0       11.0        0.0        0.0          0.0  \n",
       "1             286.0        6.0        9.0        2.0        1.0          3.0  \n",
       "2             280.0       10.0        4.0        2.0        1.0          3.0  "
      ]
     },
     "execution_count": 5,
     "metadata": {},
     "output_type": "execute_result"
    }
   ],
   "source": [
    "df_no_percent[:3]"
   ]
  },
  {
   "cell_type": "markdown",
   "metadata": {},
   "source": [
    "It looks like the `Category` column may just consist of one value, `All Students`.  Use value_counts to see if this is true."
   ]
  },
  {
   "cell_type": "code",
   "execution_count": 6,
   "metadata": {},
   "outputs": [
    {
     "data": {
      "text/plain": [
       "All Students    14315\n",
       "Not SWD         14296\n",
       "EP              14289\n",
       "Female          14259\n",
       "Hispanic        14246\n",
       "Male            14227\n",
       "SWD             14099\n",
       "Black           13757\n",
       "ELL             13251\n",
       "Former ELL      12156\n",
       "White           11393\n",
       "Asian           11115\n",
       "Name: Category, dtype: int64"
      ]
     },
     "execution_count": 6,
     "metadata": {},
     "output_type": "execute_result"
    }
   ],
   "source": [
    "df_no_percent['Category'].value_counts()"
   ]
  },
  {
   "cell_type": "markdown",
   "metadata": {},
   "source": [
    "Apparently, this data is also broken down according to demographic information.  So let's keep this column.  The `# Level 3+4` can go though - it's just a sum of the previous two columns.  Let's drop it."
   ]
  },
  {
   "cell_type": "code",
   "execution_count": 7,
   "metadata": {},
   "outputs": [],
   "source": [
    "reduced_df = df_no_percent.iloc[:, :-1]"
   ]
  },
  {
   "cell_type": "code",
   "execution_count": 8,
   "metadata": {},
   "outputs": [
    {
     "data": {
      "text/html": [
       "<div>\n",
       "<style scoped>\n",
       "    .dataframe tbody tr th:only-of-type {\n",
       "        vertical-align: middle;\n",
       "    }\n",
       "\n",
       "    .dataframe tbody tr th {\n",
       "        vertical-align: top;\n",
       "    }\n",
       "\n",
       "    .dataframe thead th {\n",
       "        text-align: right;\n",
       "    }\n",
       "</style>\n",
       "<table border=\"1\" class=\"dataframe\">\n",
       "  <thead>\n",
       "    <tr style=\"text-align: right;\">\n",
       "      <th></th>\n",
       "      <th>DBN</th>\n",
       "      <th>School Name</th>\n",
       "      <th>Grade</th>\n",
       "      <th>Year</th>\n",
       "      <th>Category</th>\n",
       "      <th>Number Tested</th>\n",
       "      <th>Mean Scale Score</th>\n",
       "      <th># Level 1</th>\n",
       "      <th># Level 2</th>\n",
       "      <th># Level 3</th>\n",
       "      <th># Level 4</th>\n",
       "    </tr>\n",
       "  </thead>\n",
       "  <tbody>\n",
       "    <tr>\n",
       "      <th>0</th>\n",
       "      <td>01M015</td>\n",
       "      <td>P.S. 015 ROBERTO CLEMENTE</td>\n",
       "      <td>3</td>\n",
       "      <td>2013</td>\n",
       "      <td>All Students</td>\n",
       "      <td>27</td>\n",
       "      <td>278.0</td>\n",
       "      <td>16.0</td>\n",
       "      <td>11.0</td>\n",
       "      <td>0.0</td>\n",
       "      <td>0.0</td>\n",
       "    </tr>\n",
       "    <tr>\n",
       "      <th>1</th>\n",
       "      <td>01M015</td>\n",
       "      <td>P.S. 015 ROBERTO CLEMENTE</td>\n",
       "      <td>3</td>\n",
       "      <td>2014</td>\n",
       "      <td>All Students</td>\n",
       "      <td>18</td>\n",
       "      <td>286.0</td>\n",
       "      <td>6.0</td>\n",
       "      <td>9.0</td>\n",
       "      <td>2.0</td>\n",
       "      <td>1.0</td>\n",
       "    </tr>\n",
       "    <tr>\n",
       "      <th>2</th>\n",
       "      <td>01M015</td>\n",
       "      <td>P.S. 015 ROBERTO CLEMENTE</td>\n",
       "      <td>3</td>\n",
       "      <td>2015</td>\n",
       "      <td>All Students</td>\n",
       "      <td>17</td>\n",
       "      <td>280.0</td>\n",
       "      <td>10.0</td>\n",
       "      <td>4.0</td>\n",
       "      <td>2.0</td>\n",
       "      <td>1.0</td>\n",
       "    </tr>\n",
       "  </tbody>\n",
       "</table>\n",
       "</div>"
      ],
      "text/plain": [
       "      DBN                School Name Grade  Year      Category  Number Tested  \\\n",
       "0  01M015  P.S. 015 ROBERTO CLEMENTE     3  2013  All Students             27   \n",
       "1  01M015  P.S. 015 ROBERTO CLEMENTE     3  2014  All Students             18   \n",
       "2  01M015  P.S. 015 ROBERTO CLEMENTE     3  2015  All Students             17   \n",
       "\n",
       "   Mean Scale Score  # Level 1  # Level 2  # Level 3  # Level 4  \n",
       "0             278.0       16.0       11.0        0.0        0.0  \n",
       "1             286.0        6.0        9.0        2.0        1.0  \n",
       "2             280.0       10.0        4.0        2.0        1.0  "
      ]
     },
     "execution_count": 8,
     "metadata": {},
     "output_type": "execute_result"
    }
   ],
   "source": [
    "reduced_df[:3]"
   ]
  },
  {
   "cell_type": "markdown",
   "metadata": {},
   "source": [
    "Ok, now let's see if our data has the correct types."
   ]
  },
  {
   "cell_type": "code",
   "execution_count": 9,
   "metadata": {},
   "outputs": [
    {
     "data": {
      "text/plain": [
       "DBN                  object\n",
       "School Name          object\n",
       "Grade                object\n",
       "Year                  int64\n",
       "Category             object\n",
       "Number Tested         int64\n",
       "Mean Scale Score    float64\n",
       "# Level 1           float64\n",
       "# Level 2           float64\n",
       "# Level 3           float64\n",
       "# Level 4           float64\n",
       "dtype: object"
      ]
     },
     "execution_count": 9,
     "metadata": {},
     "output_type": "execute_result"
    }
   ],
   "source": [
    "reduced_df.dtypes \n",
    "\n",
    "# DBN                  object\n",
    "# School Name          object\n",
    "# Grade                object\n",
    "# Year                  int64\n",
    "# Category             object\n",
    "# Number Tested         int64\n",
    "# Mean Scale Score    float64\n",
    "# # Level 1           float64\n",
    "# # Level 2           float64\n",
    "# # Level 3           float64\n",
    "# # Level 4           float64\n",
    "# dtype: object"
   ]
  },
  {
   "cell_type": "markdown",
   "metadata": {},
   "source": [
    "The only column that potentially looks like it can be improved is the `Grade` argument.  Let's take a deeper look at it."
   ]
  },
  {
   "cell_type": "code",
   "execution_count": 10,
   "metadata": {},
   "outputs": [
    {
     "data": {
      "text/plain": [
       "All Grades    38978\n",
       "3             25139\n",
       "4             24541\n",
       "5             24326\n",
       "6             16905\n",
       "7             16165\n",
       "8             15349\n",
       "Name: Grade, dtype: int64"
      ]
     },
     "execution_count": 10,
     "metadata": {},
     "output_type": "execute_result"
    }
   ],
   "source": [
    "df['Grade'].value_counts()\n",
    "\n",
    "# All Grades    38978\n",
    "# 3             25139\n",
    "# 4             24541\n",
    "# 5             24326\n",
    "# 6             16905\n",
    "# 7             16165\n",
    "# 8             15349\n",
    "# Name: Grade, dtype: int64"
   ]
  },
  {
   "cell_type": "markdown",
   "metadata": {},
   "source": [
    "We can see that in addition grades 3 through 8 it also has an `All Grades` category.  So our dtype of object looks fine."
   ]
  },
  {
   "cell_type": "markdown",
   "metadata": {},
   "source": [
    "### Is it representative?"
   ]
  },
  {
   "cell_type": "markdown",
   "metadata": {},
   "source": [
    "Now that we have spent some time reducing and cleaning our data, let's see if our data is comprehensive.  Remember, that we broke this down into two questions:\n",
    "\n",
    "1. Do we have all students from a school?\n",
    "2. Do we have all schools?"
   ]
  },
  {
   "cell_type": "markdown",
   "metadata": {},
   "source": [
    "Let's start by looking to see if all students (or roughly all students) are included."
   ]
  },
  {
   "cell_type": "markdown",
   "metadata": {},
   "source": [
    "To do this, we should get population student amounts for different schools, or at least a selection of our schools.  Let's focus on middle schools.  To get our middle schools, we can get a list of schools that have a grade 8.  Because we have entries for every row, we can further filter this by records from 2015, the most recent year."
   ]
  },
  {
   "cell_type": "code",
   "execution_count": 11,
   "metadata": {},
   "outputs": [],
   "source": [
    "middle_schools = reduced_df[(reduced_df['Grade'] == '8') & (reduced_df['Year'] == 2015)]\n"
   ]
  },
  {
   "cell_type": "code",
   "execution_count": 12,
   "metadata": {},
   "outputs": [
    {
     "data": {
      "text/html": [
       "<div>\n",
       "<style scoped>\n",
       "    .dataframe tbody tr th:only-of-type {\n",
       "        vertical-align: middle;\n",
       "    }\n",
       "\n",
       "    .dataframe tbody tr th {\n",
       "        vertical-align: top;\n",
       "    }\n",
       "\n",
       "    .dataframe thead th {\n",
       "        text-align: right;\n",
       "    }\n",
       "</style>\n",
       "<table border=\"1\" class=\"dataframe\">\n",
       "  <thead>\n",
       "    <tr style=\"text-align: right;\">\n",
       "      <th></th>\n",
       "      <th>DBN</th>\n",
       "      <th>School Name</th>\n",
       "      <th>Grade</th>\n",
       "      <th>Year</th>\n",
       "      <th>Category</th>\n",
       "      <th>Number Tested</th>\n",
       "      <th>Mean Scale Score</th>\n",
       "      <th># Level 1</th>\n",
       "      <th># Level 2</th>\n",
       "      <th># Level 3</th>\n",
       "      <th># Level 4</th>\n",
       "    </tr>\n",
       "  </thead>\n",
       "  <tbody>\n",
       "    <tr>\n",
       "      <th>53</th>\n",
       "      <td>01M034</td>\n",
       "      <td>P.S. 034 FRANKLIN D. ROOSEVELT</td>\n",
       "      <td>8</td>\n",
       "      <td>2015</td>\n",
       "      <td>All Students</td>\n",
       "      <td>59</td>\n",
       "      <td>298.0</td>\n",
       "      <td>21.0</td>\n",
       "      <td>24.0</td>\n",
       "      <td>9.0</td>\n",
       "      <td>5.0</td>\n",
       "    </tr>\n",
       "    <tr>\n",
       "      <th>136</th>\n",
       "      <td>01M140</td>\n",
       "      <td>P.S. 140 NATHAN STRAUS</td>\n",
       "      <td>8</td>\n",
       "      <td>2015</td>\n",
       "      <td>All Students</td>\n",
       "      <td>58</td>\n",
       "      <td>285.0</td>\n",
       "      <td>28.0</td>\n",
       "      <td>26.0</td>\n",
       "      <td>4.0</td>\n",
       "      <td>0.0</td>\n",
       "    </tr>\n",
       "    <tr>\n",
       "      <th>169</th>\n",
       "      <td>01M184</td>\n",
       "      <td>P.S. 184M SHUANG WEN</td>\n",
       "      <td>8</td>\n",
       "      <td>2015</td>\n",
       "      <td>All Students</td>\n",
       "      <td>56</td>\n",
       "      <td>360.0</td>\n",
       "      <td>0.0</td>\n",
       "      <td>4.0</td>\n",
       "      <td>13.0</td>\n",
       "      <td>39.0</td>\n",
       "    </tr>\n",
       "  </tbody>\n",
       "</table>\n",
       "</div>"
      ],
      "text/plain": [
       "        DBN                     School Name Grade  Year      Category  \\\n",
       "53   01M034  P.S. 034 FRANKLIN D. ROOSEVELT     8  2015  All Students   \n",
       "136  01M140          P.S. 140 NATHAN STRAUS     8  2015  All Students   \n",
       "169  01M184            P.S. 184M SHUANG WEN     8  2015  All Students   \n",
       "\n",
       "     Number Tested  Mean Scale Score  # Level 1  # Level 2  # Level 3  \\\n",
       "53              59             298.0       21.0       24.0        9.0   \n",
       "136             58             285.0       28.0       26.0        4.0   \n",
       "169             56             360.0        0.0        4.0       13.0   \n",
       "\n",
       "     # Level 4  \n",
       "53         5.0  \n",
       "136        0.0  \n",
       "169       39.0  "
      ]
     },
     "execution_count": 12,
     "metadata": {},
     "output_type": "execute_result"
    }
   ],
   "source": [
    "middle_schools[:3]"
   ]
  },
  {
   "cell_type": "markdown",
   "metadata": {},
   "source": [
    "Let's take a look at how many schools we have now."
   ]
  },
  {
   "cell_type": "code",
   "execution_count": 13,
   "metadata": {},
   "outputs": [
    {
     "data": {
      "text/plain": [
       "(5170, 11)"
      ]
     },
     "execution_count": 13,
     "metadata": {},
     "output_type": "execute_result"
    }
   ],
   "source": [
    "middle_schools.shape"
   ]
  },
  {
   "cell_type": "markdown",
   "metadata": {},
   "source": [
    "This seems like a lot.  Is it?  Let's use Google to get a rough number of the number of middle schools in NYC."
   ]
  },
  {
   "cell_type": "markdown",
   "metadata": {},
   "source": [
    "According [to the DOE](https://www.schools.nyc.gov/about-us/reports/doe-data-at-a-glance):"
   ]
  },
  {
   "cell_type": "markdown",
   "metadata": {},
   "source": [
    "> There are 1,866 schools within the DOE as of September 2019, including 260 charter schools.  "
   ]
  },
  {
   "cell_type": "markdown",
   "metadata": {},
   "source": [
    "So we must have some duplicated data.  Find out the source of it, and remove it."
   ]
  },
  {
   "cell_type": "code",
   "execution_count": 14,
   "metadata": {},
   "outputs": [],
   "source": [
    "ms_all_df = middle_schools[middle_schools['Category'] == 'All Students']"
   ]
  },
  {
   "cell_type": "code",
   "execution_count": 15,
   "metadata": {},
   "outputs": [
    {
     "data": {
      "text/plain": [
       "(472, 11)"
      ]
     },
     "execution_count": 15,
     "metadata": {},
     "output_type": "execute_result"
    }
   ],
   "source": [
    "ms_all_df.shape\n",
    "\n",
    "# (472, 11)"
   ]
  },
  {
   "cell_type": "markdown",
   "metadata": {},
   "source": [
    "Ok, this seems more reasonable."
   ]
  },
  {
   "cell_type": "markdown",
   "metadata": {},
   "source": [
    "So currently we have 472 schools in our dataframe.  Now is that all inclusive?  We can cross check this, with the [2015-2016 class size report for NYC high schools and middle schools](https://data.cityofnewyork.us/Education/2015-2016-Final-Class-Size-Report-Middle-High-Scho/icps-nwdu).  Let's load it up."
   ]
  },
  {
   "cell_type": "code",
   "execution_count": 70,
   "metadata": {},
   "outputs": [],
   "source": [
    "import pandas as pd\n",
    "url = '2014-2015_Class_Size_Report_School_Level_Detail_Summary.csv'\n",
    "\n",
    "df = pd.read_csv('./15-16-class-size-middle.csv')\n"
   ]
  },
  {
   "cell_type": "code",
   "execution_count": 71,
   "metadata": {},
   "outputs": [
    {
     "data": {
      "text/html": [
       "<div>\n",
       "<style scoped>\n",
       "    .dataframe tbody tr th:only-of-type {\n",
       "        vertical-align: middle;\n",
       "    }\n",
       "\n",
       "    .dataframe tbody tr th {\n",
       "        vertical-align: top;\n",
       "    }\n",
       "\n",
       "    .dataframe thead th {\n",
       "        text-align: right;\n",
       "    }\n",
       "</style>\n",
       "<table border=\"1\" class=\"dataframe\">\n",
       "  <thead>\n",
       "    <tr style=\"text-align: right;\">\n",
       "      <th></th>\n",
       "      <th>DBN</th>\n",
       "      <th>School Name</th>\n",
       "      <th>Grade Level</th>\n",
       "      <th>Program Type</th>\n",
       "      <th>Department</th>\n",
       "      <th>Subject</th>\n",
       "      <th>Number of Students</th>\n",
       "      <th>Number of Classes</th>\n",
       "      <th>Average Class Size</th>\n",
       "    </tr>\n",
       "  </thead>\n",
       "  <tbody>\n",
       "    <tr>\n",
       "      <th>0</th>\n",
       "      <td>01M034</td>\n",
       "      <td>P.S. 034 FRANKLIN D. ROOSEVELT</td>\n",
       "      <td>MS Core</td>\n",
       "      <td>Gen Ed</td>\n",
       "      <td>English</td>\n",
       "      <td>MS English Core</td>\n",
       "      <td>85</td>\n",
       "      <td>3</td>\n",
       "      <td>28.3</td>\n",
       "    </tr>\n",
       "    <tr>\n",
       "      <th>1</th>\n",
       "      <td>01M034</td>\n",
       "      <td>P.S. 034 FRANKLIN D. ROOSEVELT</td>\n",
       "      <td>MS Core</td>\n",
       "      <td>Gen Ed</td>\n",
       "      <td>Math</td>\n",
       "      <td>MS Math Core</td>\n",
       "      <td>85</td>\n",
       "      <td>3</td>\n",
       "      <td>28.3</td>\n",
       "    </tr>\n",
       "    <tr>\n",
       "      <th>2</th>\n",
       "      <td>01M034</td>\n",
       "      <td>P.S. 034 FRANKLIN D. ROOSEVELT</td>\n",
       "      <td>MS Core</td>\n",
       "      <td>Gen Ed</td>\n",
       "      <td>Science</td>\n",
       "      <td>MS Science Core</td>\n",
       "      <td>85</td>\n",
       "      <td>3</td>\n",
       "      <td>28.3</td>\n",
       "    </tr>\n",
       "  </tbody>\n",
       "</table>\n",
       "</div>"
      ],
      "text/plain": [
       "      DBN                     School Name Grade Level Program Type Department  \\\n",
       "0  01M034  P.S. 034 FRANKLIN D. ROOSEVELT     MS Core       Gen Ed    English   \n",
       "1  01M034  P.S. 034 FRANKLIN D. ROOSEVELT     MS Core       Gen Ed       Math   \n",
       "2  01M034  P.S. 034 FRANKLIN D. ROOSEVELT     MS Core       Gen Ed    Science   \n",
       "\n",
       "           Subject  Number of Students  Number of Classes  Average Class Size  \n",
       "0  MS English Core                  85                  3                28.3  \n",
       "1     MS Math Core                  85                  3                28.3  \n",
       "2  MS Science Core                  85                  3                28.3  "
      ]
     },
     "execution_count": 71,
     "metadata": {},
     "output_type": "execute_result"
    }
   ],
   "source": [
    "df[:3]"
   ]
  },
  {
   "cell_type": "markdown",
   "metadata": {},
   "source": [
    "Find the unique number of middle schools.\n",
    "\n",
    "> You did it correctly if you get a number at or near 502."
   ]
  },
  {
   "cell_type": "code",
   "execution_count": 18,
   "metadata": {},
   "outputs": [],
   "source": [
    "unique_dbns = df[df['Grade Level'] == 'MS Core']['DBN'].unique()"
   ]
  },
  {
   "cell_type": "code",
   "execution_count": 19,
   "metadata": {},
   "outputs": [
    {
     "data": {
      "text/plain": [
       "(502,)"
      ]
     },
     "execution_count": 19,
     "metadata": {},
     "output_type": "execute_result"
    }
   ],
   "source": [
    "unique_dbns.shape"
   ]
  },
  {
   "cell_type": "markdown",
   "metadata": {},
   "source": [
    "Remember our original data had 472.  So this isn't bad.  \n",
    "> It could be due to difference between 2014-2015 data and 2015-2016 data."
   ]
  },
  {
   "cell_type": "markdown",
   "metadata": {},
   "source": [
    "2. Checking the number of students"
   ]
  },
  {
   "cell_type": "markdown",
   "metadata": {},
   "source": [
    "Now let's try to get a sense of if our exam data includes almost all of the students.  Let's start with a dataframe of all rows pertaining to a middle school.  \n",
    "> This should have each middle school listed multiple times at this point. "
   ]
  },
  {
   "cell_type": "code",
   "execution_count": 20,
   "metadata": {},
   "outputs": [],
   "source": [
    "ms_df_class_size = df[df['Grade Level'] == 'MS Core']"
   ]
  },
  {
   "cell_type": "code",
   "execution_count": 21,
   "metadata": {},
   "outputs": [
    {
     "data": {
      "text/plain": [
       "(5731, 9)"
      ]
     },
     "execution_count": 21,
     "metadata": {},
     "output_type": "execute_result"
    }
   ],
   "source": [
    "ms_df_class_size.shape"
   ]
  },
  {
   "cell_type": "code",
   "execution_count": 22,
   "metadata": {},
   "outputs": [
    {
     "data": {
      "text/html": [
       "<div>\n",
       "<style scoped>\n",
       "    .dataframe tbody tr th:only-of-type {\n",
       "        vertical-align: middle;\n",
       "    }\n",
       "\n",
       "    .dataframe tbody tr th {\n",
       "        vertical-align: top;\n",
       "    }\n",
       "\n",
       "    .dataframe thead th {\n",
       "        text-align: right;\n",
       "    }\n",
       "</style>\n",
       "<table border=\"1\" class=\"dataframe\">\n",
       "  <thead>\n",
       "    <tr style=\"text-align: right;\">\n",
       "      <th></th>\n",
       "      <th>DBN</th>\n",
       "      <th>School Name</th>\n",
       "      <th>Grade Level</th>\n",
       "      <th>Program Type</th>\n",
       "      <th>Department</th>\n",
       "      <th>Subject</th>\n",
       "      <th>Number of Students</th>\n",
       "      <th>Number of Classes</th>\n",
       "      <th>Average Class Size</th>\n",
       "    </tr>\n",
       "  </thead>\n",
       "  <tbody>\n",
       "    <tr>\n",
       "      <th>0</th>\n",
       "      <td>01M034</td>\n",
       "      <td>P.S. 034 FRANKLIN D. ROOSEVELT</td>\n",
       "      <td>MS Core</td>\n",
       "      <td>Gen Ed</td>\n",
       "      <td>English</td>\n",
       "      <td>MS English Core</td>\n",
       "      <td>85</td>\n",
       "      <td>3</td>\n",
       "      <td>28.3</td>\n",
       "    </tr>\n",
       "    <tr>\n",
       "      <th>1</th>\n",
       "      <td>01M034</td>\n",
       "      <td>P.S. 034 FRANKLIN D. ROOSEVELT</td>\n",
       "      <td>MS Core</td>\n",
       "      <td>Gen Ed</td>\n",
       "      <td>Math</td>\n",
       "      <td>MS Math Core</td>\n",
       "      <td>85</td>\n",
       "      <td>3</td>\n",
       "      <td>28.3</td>\n",
       "    </tr>\n",
       "    <tr>\n",
       "      <th>2</th>\n",
       "      <td>01M034</td>\n",
       "      <td>P.S. 034 FRANKLIN D. ROOSEVELT</td>\n",
       "      <td>MS Core</td>\n",
       "      <td>Gen Ed</td>\n",
       "      <td>Science</td>\n",
       "      <td>MS Science Core</td>\n",
       "      <td>85</td>\n",
       "      <td>3</td>\n",
       "      <td>28.3</td>\n",
       "    </tr>\n",
       "  </tbody>\n",
       "</table>\n",
       "</div>"
      ],
      "text/plain": [
       "      DBN                     School Name Grade Level Program Type Department  \\\n",
       "0  01M034  P.S. 034 FRANKLIN D. ROOSEVELT     MS Core       Gen Ed    English   \n",
       "1  01M034  P.S. 034 FRANKLIN D. ROOSEVELT     MS Core       Gen Ed       Math   \n",
       "2  01M034  P.S. 034 FRANKLIN D. ROOSEVELT     MS Core       Gen Ed    Science   \n",
       "\n",
       "           Subject  Number of Students  Number of Classes  Average Class Size  \n",
       "0  MS English Core                  85                  3                28.3  \n",
       "1     MS Math Core                  85                  3                28.3  \n",
       "2  MS Science Core                  85                  3                28.3  "
      ]
     },
     "execution_count": 22,
     "metadata": {},
     "output_type": "execute_result"
    }
   ],
   "source": [
    "ms_df_class_size[:3]"
   ]
  },
  {
   "cell_type": "markdown",
   "metadata": {},
   "source": [
    "Now it looks like the number of students information is duplicated, if it is, then this likely pertains to the number of students in the entire school.  "
   ]
  },
  {
   "cell_type": "markdown",
   "metadata": {},
   "source": [
    "Let's see if every school listing has the number of students repeated."
   ]
  },
  {
   "cell_type": "markdown",
   "metadata": {},
   "source": [
    "[Stackoverflow post](https://stackoverflow.com/questions/53950883/check-if-all-elements-in-a-group-are-equal-using-pandas-groupby)"
   ]
  },
  {
   "cell_type": "code",
   "execution_count": 23,
   "metadata": {},
   "outputs": [
    {
     "data": {
      "text/plain": [
       "DBN\n",
       "01M034    3\n",
       "01M140    7\n",
       "01M184    5\n",
       "Name: Number of Students, dtype: int64"
      ]
     },
     "execution_count": 23,
     "metadata": {},
     "output_type": "execute_result"
    }
   ],
   "source": [
    "ms_df_class_size.groupby(['DBN'])['Number of Students'].nunique()[:3]"
   ]
  },
  {
   "cell_type": "markdown",
   "metadata": {},
   "source": [
    "Huh it looks like they do not.  Let's look at just school `'01M034'`."
   ]
  },
  {
   "cell_type": "code",
   "execution_count": 121,
   "metadata": {},
   "outputs": [],
   "source": [
    "# ms_df_class_size[ms_df_class_size['DBN'] == '01M034']"
   ]
  },
  {
   "cell_type": "markdown",
   "metadata": {},
   "source": [
    "It seems like there are different numbers depending on the program type.  Let's just select the max number of students per school for now."
   ]
  },
  {
   "cell_type": "code",
   "execution_count": 50,
   "metadata": {},
   "outputs": [],
   "source": [
    "max_class_size = ms_df_class_size.groupby('DBN')['Number of Students'].max()"
   ]
  },
  {
   "cell_type": "code",
   "execution_count": 51,
   "metadata": {},
   "outputs": [
    {
     "data": {
      "text/plain": [
       "DBN\n",
       "01M034     86\n",
       "01M140    118\n",
       "01M184    109\n",
       "Name: Number of Students, dtype: int64"
      ]
     },
     "execution_count": 51,
     "metadata": {},
     "output_type": "execute_result"
    }
   ],
   "source": [
    "max_class_size[:3]\n",
    "\n",
    "# 01M034     86\n",
    "# 01M140    118\n",
    "# 01M184    109\n",
    "# Name: Number of Students, dtype: int64"
   ]
  },
  {
   "cell_type": "code",
   "execution_count": 27,
   "metadata": {},
   "outputs": [
    {
     "data": {
      "text/plain": [
       "(502,)"
      ]
     },
     "execution_count": 27,
     "metadata": {},
     "output_type": "execute_result"
    }
   ],
   "source": [
    "max_class_size.shape\n",
    "\n",
    "# (502,)"
   ]
  },
  {
   "cell_type": "markdown",
   "metadata": {},
   "source": [
    "Ok, now we can add try to combine this information with our school data dataframe.  \n",
    "\n",
    "Let's go back to our dataframe with students."
   ]
  },
  {
   "cell_type": "code",
   "execution_count": 28,
   "metadata": {},
   "outputs": [
    {
     "data": {
      "text/html": [
       "<div>\n",
       "<style scoped>\n",
       "    .dataframe tbody tr th:only-of-type {\n",
       "        vertical-align: middle;\n",
       "    }\n",
       "\n",
       "    .dataframe tbody tr th {\n",
       "        vertical-align: top;\n",
       "    }\n",
       "\n",
       "    .dataframe thead th {\n",
       "        text-align: right;\n",
       "    }\n",
       "</style>\n",
       "<table border=\"1\" class=\"dataframe\">\n",
       "  <thead>\n",
       "    <tr style=\"text-align: right;\">\n",
       "      <th></th>\n",
       "      <th>DBN</th>\n",
       "      <th>School Name</th>\n",
       "      <th>Grade</th>\n",
       "      <th>Year</th>\n",
       "      <th>Category</th>\n",
       "      <th>Number Tested</th>\n",
       "      <th>Mean Scale Score</th>\n",
       "      <th># Level 1</th>\n",
       "      <th># Level 2</th>\n",
       "      <th># Level 3</th>\n",
       "      <th># Level 4</th>\n",
       "    </tr>\n",
       "  </thead>\n",
       "  <tbody>\n",
       "    <tr>\n",
       "      <th>0</th>\n",
       "      <td>01M015</td>\n",
       "      <td>P.S. 015 ROBERTO CLEMENTE</td>\n",
       "      <td>3</td>\n",
       "      <td>2013</td>\n",
       "      <td>All Students</td>\n",
       "      <td>27</td>\n",
       "      <td>278.0</td>\n",
       "      <td>16.0</td>\n",
       "      <td>11.0</td>\n",
       "      <td>0.0</td>\n",
       "      <td>0.0</td>\n",
       "    </tr>\n",
       "    <tr>\n",
       "      <th>1</th>\n",
       "      <td>01M015</td>\n",
       "      <td>P.S. 015 ROBERTO CLEMENTE</td>\n",
       "      <td>3</td>\n",
       "      <td>2014</td>\n",
       "      <td>All Students</td>\n",
       "      <td>18</td>\n",
       "      <td>286.0</td>\n",
       "      <td>6.0</td>\n",
       "      <td>9.0</td>\n",
       "      <td>2.0</td>\n",
       "      <td>1.0</td>\n",
       "    </tr>\n",
       "    <tr>\n",
       "      <th>2</th>\n",
       "      <td>01M015</td>\n",
       "      <td>P.S. 015 ROBERTO CLEMENTE</td>\n",
       "      <td>3</td>\n",
       "      <td>2015</td>\n",
       "      <td>All Students</td>\n",
       "      <td>17</td>\n",
       "      <td>280.0</td>\n",
       "      <td>10.0</td>\n",
       "      <td>4.0</td>\n",
       "      <td>2.0</td>\n",
       "      <td>1.0</td>\n",
       "    </tr>\n",
       "  </tbody>\n",
       "</table>\n",
       "</div>"
      ],
      "text/plain": [
       "      DBN                School Name Grade  Year      Category  Number Tested  \\\n",
       "0  01M015  P.S. 015 ROBERTO CLEMENTE     3  2013  All Students             27   \n",
       "1  01M015  P.S. 015 ROBERTO CLEMENTE     3  2014  All Students             18   \n",
       "2  01M015  P.S. 015 ROBERTO CLEMENTE     3  2015  All Students             17   \n",
       "\n",
       "   Mean Scale Score  # Level 1  # Level 2  # Level 3  # Level 4  \n",
       "0             278.0       16.0       11.0        0.0        0.0  \n",
       "1             286.0        6.0        9.0        2.0        1.0  \n",
       "2             280.0       10.0        4.0        2.0        1.0  "
      ]
     },
     "execution_count": 28,
     "metadata": {},
     "output_type": "execute_result"
    }
   ],
   "source": [
    "reduced_df[:3]"
   ]
  },
  {
   "cell_type": "markdown",
   "metadata": {},
   "source": [
    "Select the schools that have grades 6, 7, or 8."
   ]
  },
  {
   "cell_type": "code",
   "execution_count": 30,
   "metadata": {},
   "outputs": [],
   "source": [
    "import numpy as np\n",
    "middle_schools_selected = reduced_df[np.isin(reduced_df['Grade'], ['6', '7', '8'])]"
   ]
  },
  {
   "cell_type": "markdown",
   "metadata": {},
   "source": [
    "Then get to the year 2015."
   ]
  },
  {
   "cell_type": "code",
   "execution_count": 34,
   "metadata": {},
   "outputs": [],
   "source": [
    "ms_2015 = middle_schools_selected[middle_schools_selected['Year'] == 2015]"
   ]
  },
  {
   "cell_type": "code",
   "execution_count": 37,
   "metadata": {},
   "outputs": [],
   "source": [
    "ms_2015_all_df = ms_2015[ms_2015['Category'] == 'All Students']"
   ]
  },
  {
   "cell_type": "markdown",
   "metadata": {},
   "source": [
    "This number makes sense because we have three grades per school."
   ]
  },
  {
   "cell_type": "code",
   "execution_count": 38,
   "metadata": {},
   "outputs": [
    {
     "data": {
      "text/plain": [
       "(1470, 11)"
      ]
     },
     "execution_count": 38,
     "metadata": {},
     "output_type": "execute_result"
    }
   ],
   "source": [
    "ms_2015_all_df.shape"
   ]
  },
  {
   "cell_type": "code",
   "execution_count": 41,
   "metadata": {},
   "outputs": [],
   "source": [
    "number_tested = ms_2015_all_df.groupby('DBN').sum()['Number Tested']"
   ]
  },
  {
   "cell_type": "code",
   "execution_count": 56,
   "metadata": {},
   "outputs": [
    {
     "data": {
      "text/html": [
       "<div>\n",
       "<style scoped>\n",
       "    .dataframe tbody tr th:only-of-type {\n",
       "        vertical-align: middle;\n",
       "    }\n",
       "\n",
       "    .dataframe tbody tr th {\n",
       "        vertical-align: top;\n",
       "    }\n",
       "\n",
       "    .dataframe thead th {\n",
       "        text-align: right;\n",
       "    }\n",
       "</style>\n",
       "<table border=\"1\" class=\"dataframe\">\n",
       "  <thead>\n",
       "    <tr style=\"text-align: right;\">\n",
       "      <th></th>\n",
       "      <th>DBN</th>\n",
       "      <th>School Name</th>\n",
       "      <th>Grade</th>\n",
       "      <th>Year</th>\n",
       "      <th>Category</th>\n",
       "      <th>Number Tested</th>\n",
       "      <th>Mean Scale Score</th>\n",
       "      <th># Level 1</th>\n",
       "      <th># Level 2</th>\n",
       "      <th># Level 3</th>\n",
       "      <th># Level 4</th>\n",
       "    </tr>\n",
       "  </thead>\n",
       "  <tbody>\n",
       "    <tr>\n",
       "      <th>47</th>\n",
       "      <td>01M034</td>\n",
       "      <td>P.S. 034 FRANKLIN D. ROOSEVELT</td>\n",
       "      <td>6</td>\n",
       "      <td>2015</td>\n",
       "      <td>All Students</td>\n",
       "      <td>56</td>\n",
       "      <td>295.0</td>\n",
       "      <td>19.0</td>\n",
       "      <td>23.0</td>\n",
       "      <td>11.0</td>\n",
       "      <td>3.0</td>\n",
       "    </tr>\n",
       "    <tr>\n",
       "      <th>50</th>\n",
       "      <td>01M034</td>\n",
       "      <td>P.S. 034 FRANKLIN D. ROOSEVELT</td>\n",
       "      <td>7</td>\n",
       "      <td>2015</td>\n",
       "      <td>All Students</td>\n",
       "      <td>43</td>\n",
       "      <td>296.0</td>\n",
       "      <td>17.0</td>\n",
       "      <td>15.0</td>\n",
       "      <td>10.0</td>\n",
       "      <td>1.0</td>\n",
       "    </tr>\n",
       "    <tr>\n",
       "      <th>53</th>\n",
       "      <td>01M034</td>\n",
       "      <td>P.S. 034 FRANKLIN D. ROOSEVELT</td>\n",
       "      <td>8</td>\n",
       "      <td>2015</td>\n",
       "      <td>All Students</td>\n",
       "      <td>59</td>\n",
       "      <td>298.0</td>\n",
       "      <td>21.0</td>\n",
       "      <td>24.0</td>\n",
       "      <td>9.0</td>\n",
       "      <td>5.0</td>\n",
       "    </tr>\n",
       "  </tbody>\n",
       "</table>\n",
       "</div>"
      ],
      "text/plain": [
       "       DBN                     School Name Grade  Year      Category  \\\n",
       "47  01M034  P.S. 034 FRANKLIN D. ROOSEVELT     6  2015  All Students   \n",
       "50  01M034  P.S. 034 FRANKLIN D. ROOSEVELT     7  2015  All Students   \n",
       "53  01M034  P.S. 034 FRANKLIN D. ROOSEVELT     8  2015  All Students   \n",
       "\n",
       "    Number Tested  Mean Scale Score  # Level 1  # Level 2  # Level 3  \\\n",
       "47             56             295.0       19.0       23.0       11.0   \n",
       "50             43             296.0       17.0       15.0       10.0   \n",
       "53             59             298.0       21.0       24.0        9.0   \n",
       "\n",
       "    # Level 4  \n",
       "47        3.0  \n",
       "50        1.0  \n",
       "53        5.0  "
      ]
     },
     "execution_count": 56,
     "metadata": {},
     "output_type": "execute_result"
    }
   ],
   "source": [
    "ms_2015_all_df[ms_2015_all_df['DBN'] == '01M034']"
   ]
  },
  {
   "cell_type": "code",
   "execution_count": 72,
   "metadata": {},
   "outputs": [
    {
     "name": "stderr",
     "output_type": "stream",
     "text": [
      "/Users/jeff/opt/anaconda3/lib/python3.7/site-packages/ipykernel_launcher.py:1: FutureWarning: Sorting because non-concatenation axis is not aligned. A future version\n",
      "of pandas will change to not sort by default.\n",
      "\n",
      "To accept the future behavior, pass 'sort=False'.\n",
      "\n",
      "To retain the current behavior and silence the warning, pass 'sort=True'.\n",
      "\n",
      "  \"\"\"Entry point for launching an IPython kernel.\n"
     ]
    }
   ],
   "source": [
    "num_students = pd.concat([max_class_size, number_tested], axis=1)"
   ]
  },
  {
   "cell_type": "code",
   "execution_count": 73,
   "metadata": {},
   "outputs": [
    {
     "data": {
      "text/html": [
       "<div>\n",
       "<style scoped>\n",
       "    .dataframe tbody tr th:only-of-type {\n",
       "        vertical-align: middle;\n",
       "    }\n",
       "\n",
       "    .dataframe tbody tr th {\n",
       "        vertical-align: top;\n",
       "    }\n",
       "\n",
       "    .dataframe thead th {\n",
       "        text-align: right;\n",
       "    }\n",
       "</style>\n",
       "<table border=\"1\" class=\"dataframe\">\n",
       "  <thead>\n",
       "    <tr style=\"text-align: right;\">\n",
       "      <th></th>\n",
       "      <th>Number of Students</th>\n",
       "      <th>Number Tested</th>\n",
       "    </tr>\n",
       "  </thead>\n",
       "  <tbody>\n",
       "    <tr>\n",
       "      <th>01M034</th>\n",
       "      <td>86.0</td>\n",
       "      <td>158.0</td>\n",
       "    </tr>\n",
       "    <tr>\n",
       "      <th>01M140</th>\n",
       "      <td>118.0</td>\n",
       "      <td>164.0</td>\n",
       "    </tr>\n",
       "    <tr>\n",
       "      <th>01M184</th>\n",
       "      <td>109.0</td>\n",
       "      <td>153.0</td>\n",
       "    </tr>\n",
       "  </tbody>\n",
       "</table>\n",
       "</div>"
      ],
      "text/plain": [
       "        Number of Students  Number Tested\n",
       "01M034                86.0          158.0\n",
       "01M140               118.0          164.0\n",
       "01M184               109.0          153.0"
      ]
     },
     "execution_count": 73,
     "metadata": {},
     "output_type": "execute_result"
    }
   ],
   "source": [
    "num_students[:3]"
   ]
  },
  {
   "cell_type": "markdown",
   "metadata": {},
   "source": [
    "It looks like our number of students could be off.  Let's go back to our middle school class size data.  Let's look at it unaggregated, and show enough rows for two schools."
   ]
  },
  {
   "cell_type": "code",
   "execution_count": 100,
   "metadata": {},
   "outputs": [],
   "source": [
    "# ms_df_class_size[ms_df_class_size['DBN'] == '01M450']"
   ]
  },
  {
   "cell_type": "markdown",
   "metadata": {},
   "source": [
    "It looks like instead of just taking the max number per school we should group each school by the program type, and then take the max of that.  (This won't be perfect, but it looks close.)"
   ]
  },
  {
   "cell_type": "code",
   "execution_count": 87,
   "metadata": {},
   "outputs": [],
   "source": [
    "grouped_df_dbn_program = ms_df_class_size.groupby(['DBN', 'Program Type']).max()"
   ]
  },
  {
   "cell_type": "code",
   "execution_count": 90,
   "metadata": {},
   "outputs": [
    {
     "data": {
      "text/html": [
       "<div>\n",
       "<style scoped>\n",
       "    .dataframe tbody tr th:only-of-type {\n",
       "        vertical-align: middle;\n",
       "    }\n",
       "\n",
       "    .dataframe tbody tr th {\n",
       "        vertical-align: top;\n",
       "    }\n",
       "\n",
       "    .dataframe thead th {\n",
       "        text-align: right;\n",
       "    }\n",
       "</style>\n",
       "<table border=\"1\" class=\"dataframe\">\n",
       "  <thead>\n",
       "    <tr style=\"text-align: right;\">\n",
       "      <th></th>\n",
       "      <th></th>\n",
       "      <th>School Name</th>\n",
       "      <th>Grade Level</th>\n",
       "      <th>Department</th>\n",
       "      <th>Subject</th>\n",
       "      <th>Number of Students</th>\n",
       "      <th>Number of Classes</th>\n",
       "      <th>Average Class Size</th>\n",
       "    </tr>\n",
       "    <tr>\n",
       "      <th>DBN</th>\n",
       "      <th>Program Type</th>\n",
       "      <th></th>\n",
       "      <th></th>\n",
       "      <th></th>\n",
       "      <th></th>\n",
       "      <th></th>\n",
       "      <th></th>\n",
       "      <th></th>\n",
       "    </tr>\n",
       "  </thead>\n",
       "  <tbody>\n",
       "    <tr>\n",
       "      <th rowspan=\"3\" valign=\"top\">01M034</th>\n",
       "      <th>Gen Ed</th>\n",
       "      <td>P.S. 034 FRANKLIN D. ROOSEVELT</td>\n",
       "      <td>MS Core</td>\n",
       "      <td>Social Studies</td>\n",
       "      <td>MS Social Studies Core</td>\n",
       "      <td>85</td>\n",
       "      <td>3</td>\n",
       "      <td>28.3</td>\n",
       "    </tr>\n",
       "    <tr>\n",
       "      <th>ICT</th>\n",
       "      <td>P.S. 034 FRANKLIN D. ROOSEVELT</td>\n",
       "      <td>MS Core</td>\n",
       "      <td>Social Studies</td>\n",
       "      <td>MS Social Studies Core</td>\n",
       "      <td>86</td>\n",
       "      <td>3</td>\n",
       "      <td>28.7</td>\n",
       "    </tr>\n",
       "    <tr>\n",
       "      <th>SC</th>\n",
       "      <td>P.S. 034 FRANKLIN D. ROOSEVELT</td>\n",
       "      <td>MS Core</td>\n",
       "      <td>Social Studies</td>\n",
       "      <td>MS Social Studies Core</td>\n",
       "      <td>6</td>\n",
       "      <td>1</td>\n",
       "      <td>6.0</td>\n",
       "    </tr>\n",
       "    <tr>\n",
       "      <th rowspan=\"3\" valign=\"top\">01M140</th>\n",
       "      <th>Gen Ed</th>\n",
       "      <td>P.S. 140 NATHAN STRAUS</td>\n",
       "      <td>MS Core</td>\n",
       "      <td>Social Studies</td>\n",
       "      <td>MS Social Studies Core</td>\n",
       "      <td>118</td>\n",
       "      <td>4</td>\n",
       "      <td>29.5</td>\n",
       "    </tr>\n",
       "    <tr>\n",
       "      <th>ICT</th>\n",
       "      <td>P.S. 140 NATHAN STRAUS</td>\n",
       "      <td>MS Core</td>\n",
       "      <td>Social Studies</td>\n",
       "      <td>MS Social Studies Core</td>\n",
       "      <td>63</td>\n",
       "      <td>2</td>\n",
       "      <td>31.5</td>\n",
       "    </tr>\n",
       "    <tr>\n",
       "      <th>SC</th>\n",
       "      <td>P.S. 140 NATHAN STRAUS</td>\n",
       "      <td>MS Core</td>\n",
       "      <td>Social Studies</td>\n",
       "      <td>MS Social Studies Core</td>\n",
       "      <td>19</td>\n",
       "      <td>3</td>\n",
       "      <td>6.3</td>\n",
       "    </tr>\n",
       "  </tbody>\n",
       "</table>\n",
       "</div>"
      ],
      "text/plain": [
       "                                        School Name Grade Level  \\\n",
       "DBN    Program Type                                               \n",
       "01M034 Gen Ed        P.S. 034 FRANKLIN D. ROOSEVELT     MS Core   \n",
       "       ICT           P.S. 034 FRANKLIN D. ROOSEVELT     MS Core   \n",
       "       SC            P.S. 034 FRANKLIN D. ROOSEVELT     MS Core   \n",
       "01M140 Gen Ed                P.S. 140 NATHAN STRAUS     MS Core   \n",
       "       ICT                   P.S. 140 NATHAN STRAUS     MS Core   \n",
       "       SC                    P.S. 140 NATHAN STRAUS     MS Core   \n",
       "\n",
       "                         Department                 Subject  \\\n",
       "DBN    Program Type                                           \n",
       "01M034 Gen Ed        Social Studies  MS Social Studies Core   \n",
       "       ICT           Social Studies  MS Social Studies Core   \n",
       "       SC            Social Studies  MS Social Studies Core   \n",
       "01M140 Gen Ed        Social Studies  MS Social Studies Core   \n",
       "       ICT           Social Studies  MS Social Studies Core   \n",
       "       SC            Social Studies  MS Social Studies Core   \n",
       "\n",
       "                     Number of Students  Number of Classes  Average Class Size  \n",
       "DBN    Program Type                                                             \n",
       "01M034 Gen Ed                        85                  3                28.3  \n",
       "       ICT                           86                  3                28.7  \n",
       "       SC                             6                  1                 6.0  \n",
       "01M140 Gen Ed                       118                  4                29.5  \n",
       "       ICT                           63                  2                31.5  \n",
       "       SC                            19                  3                 6.3  "
      ]
     },
     "execution_count": 90,
     "metadata": {},
     "output_type": "execute_result"
    }
   ],
   "source": [
    "grouped_df_dbn_program[:6]"
   ]
  },
  {
   "cell_type": "markdown",
   "metadata": {},
   "source": [
    "From this, we really just need the number of students."
   ]
  },
  {
   "cell_type": "code",
   "execution_count": 95,
   "metadata": {},
   "outputs": [],
   "source": [
    "school_size_est = grouped_df_dbn_program['Number of Students'].groupby('DBN').sum()"
   ]
  },
  {
   "cell_type": "code",
   "execution_count": 101,
   "metadata": {},
   "outputs": [
    {
     "name": "stderr",
     "output_type": "stream",
     "text": [
      "/Users/jeff/opt/anaconda3/lib/python3.7/site-packages/ipykernel_launcher.py:1: FutureWarning: Sorting because non-concatenation axis is not aligned. A future version\n",
      "of pandas will change to not sort by default.\n",
      "\n",
      "To accept the future behavior, pass 'sort=False'.\n",
      "\n",
      "To retain the current behavior and silence the warning, pass 'sort=True'.\n",
      "\n",
      "  \"\"\"Entry point for launching an IPython kernel.\n"
     ]
    }
   ],
   "source": [
    "combined_students_tested = pd.concat([number_tested, school_size_est], axis = 1)"
   ]
  },
  {
   "cell_type": "code",
   "execution_count": 108,
   "metadata": {},
   "outputs": [
    {
     "data": {
      "text/html": [
       "<div>\n",
       "<style scoped>\n",
       "    .dataframe tbody tr th:only-of-type {\n",
       "        vertical-align: middle;\n",
       "    }\n",
       "\n",
       "    .dataframe tbody tr th {\n",
       "        vertical-align: top;\n",
       "    }\n",
       "\n",
       "    .dataframe thead th {\n",
       "        text-align: right;\n",
       "    }\n",
       "</style>\n",
       "<table border=\"1\" class=\"dataframe\">\n",
       "  <thead>\n",
       "    <tr style=\"text-align: right;\">\n",
       "      <th></th>\n",
       "      <th>Number Tested</th>\n",
       "      <th>Number of Students</th>\n",
       "    </tr>\n",
       "  </thead>\n",
       "  <tbody>\n",
       "    <tr>\n",
       "      <th>01M034</th>\n",
       "      <td>158.0</td>\n",
       "      <td>177.0</td>\n",
       "    </tr>\n",
       "    <tr>\n",
       "      <th>01M140</th>\n",
       "      <td>164.0</td>\n",
       "      <td>200.0</td>\n",
       "    </tr>\n",
       "    <tr>\n",
       "      <th>01M184</th>\n",
       "      <td>153.0</td>\n",
       "      <td>269.0</td>\n",
       "    </tr>\n",
       "  </tbody>\n",
       "</table>\n",
       "</div>"
      ],
      "text/plain": [
       "        Number Tested  Number of Students\n",
       "01M034          158.0               177.0\n",
       "01M140          164.0               200.0\n",
       "01M184          153.0               269.0"
      ]
     },
     "execution_count": 108,
     "metadata": {},
     "output_type": "execute_result"
    }
   ],
   "source": [
    "combined_students_tested[:3]"
   ]
  },
  {
   "cell_type": "code",
   "execution_count": 110,
   "metadata": {},
   "outputs": [],
   "source": [
    "diff = combined_students_tested['Number of Students'] - combined_students_tested['Number Tested']"
   ]
  },
  {
   "cell_type": "code",
   "execution_count": 111,
   "metadata": {},
   "outputs": [],
   "source": [
    "combined_students_tested['difference'] = diff"
   ]
  },
  {
   "cell_type": "code",
   "execution_count": 114,
   "metadata": {},
   "outputs": [],
   "source": [
    "pct_diff = combined_students_tested['difference']/combined_students_tested['Number of Students']"
   ]
  },
  {
   "cell_type": "code",
   "execution_count": 115,
   "metadata": {},
   "outputs": [],
   "source": [
    "combined_students_tested['pct_diff'] = pct_diff"
   ]
  },
  {
   "cell_type": "code",
   "execution_count": 118,
   "metadata": {},
   "outputs": [
    {
     "data": {
      "text/plain": [
       "count    499.000000\n",
       "mean       0.192855\n",
       "std        0.402554\n",
       "min       -7.213115\n",
       "25%        0.088975\n",
       "50%        0.204640\n",
       "75%        0.334891\n",
       "max        0.817420\n",
       "Name: pct_diff, dtype: float64"
      ]
     },
     "execution_count": 118,
     "metadata": {},
     "output_type": "execute_result"
    }
   ],
   "source": [
    "combined_students_tested['pct_diff'].describe()"
   ]
  },
  {
   "cell_type": "code",
   "execution_count": null,
   "metadata": {},
   "outputs": [],
   "source": []
  }
 ],
 "metadata": {
  "kernelspec": {
   "display_name": "Python 3",
   "language": "python",
   "name": "python3"
  },
  "language_info": {
   "codemirror_mode": {
    "name": "ipython",
    "version": 3
   },
   "file_extension": ".py",
   "mimetype": "text/x-python",
   "name": "python",
   "nbconvert_exporter": "python",
   "pygments_lexer": "ipython3",
   "version": "3.7.4"
  }
 },
 "nbformat": 4,
 "nbformat_minor": 4
}
