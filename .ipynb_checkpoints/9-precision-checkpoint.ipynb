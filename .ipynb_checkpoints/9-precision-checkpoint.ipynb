{
 "cells": [
  {
   "cell_type": "markdown",
   "metadata": {},
   "source": [
    "* Quantifying precision \n",
    "\n",
    "We call random people, and ask people how much they weigh, and then we want to think about what could go wrong"
   ]
  },
  {
   "cell_type": "markdown",
   "metadata": {},
   "source": [
    "* Bias\n",
    "    * Sampling bias\n",
    "        * If sample is representative, then every person in the population should have an equal likelihood of being chosen for the sample\n",
    "        * If different probabilities of being sampled based on what group belongs to, and group membership correlated to the target, then biased.\n",
    "        \n",
    "        \n",
    "    \n",
    "* Measurement error\n",
    "    * Uncalibrated scale, misreported (lying), miscoded, clothes and shoes\n",
    "* Random error\n",
    "    * You collected a sample and not the whole population"
   ]
  },
  {
   "cell_type": "markdown",
   "metadata": {},
   "source": [
    "* Sampling bias - hard to quantify.  If you knew how your sample was wrong, you'd fix it.\n",
    "* Measurement error - sometimes quantifiable.\n",
    "* Random error - easy to quantify\n",
    "\n",
    "So we discuss the first two qualitatively, and quantify the third. "
   ]
  },
  {
   "cell_type": "markdown",
   "metadata": {},
   "source": [
    "* Edward Tufte- random error is but one of twenty."
   ]
  },
  {
   "cell_type": "code",
   "execution_count": null,
   "metadata": {},
   "outputs": [],
   "source": []
  }
 ],
 "metadata": {
  "kernelspec": {
   "display_name": "Python 3",
   "language": "python",
   "name": "python3"
  },
  "language_info": {
   "codemirror_mode": {
    "name": "ipython",
    "version": 3
   },
   "file_extension": ".py",
   "mimetype": "text/x-python",
   "name": "python",
   "nbconvert_exporter": "python",
   "pygments_lexer": "ipython3",
   "version": "3.7.4"
  }
 },
 "nbformat": 4,
 "nbformat_minor": 4
}
