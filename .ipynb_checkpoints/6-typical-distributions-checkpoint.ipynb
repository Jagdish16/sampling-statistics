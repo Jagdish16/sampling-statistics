{
 "cells": [
  {
   "cell_type": "markdown",
   "metadata": {},
   "source": [
    "# Modeling Distributions"
   ]
  },
  {
   "cell_type": "markdown",
   "metadata": {},
   "source": [
    "### Introduction"
   ]
  },
  {
   "cell_type": "markdown",
   "metadata": {},
   "source": [
    "Now so far, we have seen how we can learn about a variable by plotting either a frequency distribution, and exploring summary statistics, or exploring the same information with a sample from the population.\n",
    "\n",
    "As we mentioned, in most circumstances, using a sample of the population is the best that we can do, as it is simply too costly to survey the entire population.  As we'll see in this lesson, just using a sample of the population can lead us to some illogical conclusions, so instead we prefer to use the sample, to build a model of what we believe to be the distribution."
   ]
  },
  {
   "cell_type": "markdown",
   "metadata": {},
   "source": [
    "### Loading the data"
   ]
  },
  {
   "cell_type": "markdown",
   "metadata": {},
   "source": [
    "Now remember, when working with real data, we only have a *sample* of that data, not the underlying population, so let's start with a sample."
   ]
  },
  {
   "cell_type": "markdown",
   "metadata": {},
   "source": [
    "If we know the number of rows in our csv file (and here we do), we can read the csv file only selecting 100 random rows."
   ]
  },
  {
   "cell_type": "code",
   "execution_count": 119,
   "metadata": {},
   "outputs": [],
   "source": [
    "from numpy.random import default_rng, seed\n",
    "seed(3)\n",
    "rng = default_rng()\n",
    "numbers = rng.choice(range(1, 497), size=396, replace=False)"
   ]
  },
  {
   "cell_type": "code",
   "execution_count": 120,
   "metadata": {},
   "outputs": [],
   "source": [
    "numbers = sorted(numbers)"
   ]
  },
  {
   "cell_type": "code",
   "execution_count": 121,
   "metadata": {},
   "outputs": [],
   "source": [
    "import pandas as pd \n",
    "sample_df = pd.read_csv('./nba_players_clean.csv', skiprows = numbers, \n",
    "                        index_col = 0, header=0)"
   ]
  },
  {
   "cell_type": "code",
   "execution_count": 122,
   "metadata": {},
   "outputs": [
    {
     "data": {
      "text/plain": [
       "(100, 17)"
      ]
     },
     "execution_count": 122,
     "metadata": {},
     "output_type": "execute_result"
    }
   ],
   "source": [
    "sample_df.shape"
   ]
  },
  {
   "cell_type": "code",
   "execution_count": 123,
   "metadata": {},
   "outputs": [
    {
     "data": {
      "text/html": [
       "<div>\n",
       "<style scoped>\n",
       "    .dataframe tbody tr th:only-of-type {\n",
       "        vertical-align: middle;\n",
       "    }\n",
       "\n",
       "    .dataframe tbody tr th {\n",
       "        vertical-align: top;\n",
       "    }\n",
       "\n",
       "    .dataframe thead th {\n",
       "        text-align: right;\n",
       "    }\n",
       "</style>\n",
       "<table border=\"1\" class=\"dataframe\">\n",
       "  <thead>\n",
       "    <tr style=\"text-align: right;\">\n",
       "      <th></th>\n",
       "      <th>player_id</th>\n",
       "      <th>name</th>\n",
       "      <th>weight</th>\n",
       "      <th>birth_date</th>\n",
       "      <th>height</th>\n",
       "      <th>nationality</th>\n",
       "      <th>team_abbreviation</th>\n",
       "      <th>most_recent_season</th>\n",
       "      <th>box_plus_minus</th>\n",
       "      <th>games_played</th>\n",
       "      <th>games_started</th>\n",
       "      <th>player_efficiency_rating</th>\n",
       "      <th>three_point_percentage</th>\n",
       "      <th>true_shooting_percentage</th>\n",
       "      <th>two_point_attempts</th>\n",
       "      <th>two_point_percentage</th>\n",
       "      <th>two_pointers</th>\n",
       "    </tr>\n",
       "  </thead>\n",
       "  <tbody>\n",
       "    <tr>\n",
       "      <th>8</th>\n",
       "      <td>porzikr01</td>\n",
       "      <td>Kristaps Porziņģis</td>\n",
       "      <td>240</td>\n",
       "      <td>1995-08-02</td>\n",
       "      <td>87</td>\n",
       "      <td>Latvia</td>\n",
       "      <td>NaN</td>\n",
       "      <td>2019.0</td>\n",
       "      <td>NaN</td>\n",
       "      <td>NaN</td>\n",
       "      <td>NaN</td>\n",
       "      <td>NaN</td>\n",
       "      <td>NaN</td>\n",
       "      <td>NaN</td>\n",
       "      <td>NaN</td>\n",
       "      <td>NaN</td>\n",
       "      <td>NaN</td>\n",
       "    </tr>\n",
       "    <tr>\n",
       "      <th>13</th>\n",
       "      <td>caulewi01</td>\n",
       "      <td>Willie Cauley-Stein</td>\n",
       "      <td>240</td>\n",
       "      <td>1993-08-18</td>\n",
       "      <td>84</td>\n",
       "      <td>United States of America</td>\n",
       "      <td>TOT</td>\n",
       "      <td>2019.0</td>\n",
       "      <td>0.1</td>\n",
       "      <td>349.0</td>\n",
       "      <td>238.0</td>\n",
       "      <td>17.0</td>\n",
       "      <td>0.211</td>\n",
       "      <td>0.559</td>\n",
       "      <td>2617.0</td>\n",
       "      <td>0.541</td>\n",
       "      <td>1417.0</td>\n",
       "    </tr>\n",
       "    <tr>\n",
       "      <th>14</th>\n",
       "      <td>kiddgmi01</td>\n",
       "      <td>Michael Kidd-Gilchrist</td>\n",
       "      <td>232</td>\n",
       "      <td>1993-09-26</td>\n",
       "      <td>78</td>\n",
       "      <td>United States of America</td>\n",
       "      <td>TOT</td>\n",
       "      <td>2019.0</td>\n",
       "      <td>-1.8</td>\n",
       "      <td>442.0</td>\n",
       "      <td>356.0</td>\n",
       "      <td>13.5</td>\n",
       "      <td>0.272</td>\n",
       "      <td>0.524</td>\n",
       "      <td>2976.0</td>\n",
       "      <td>0.481</td>\n",
       "      <td>1431.0</td>\n",
       "    </tr>\n",
       "  </tbody>\n",
       "</table>\n",
       "</div>"
      ],
      "text/plain": [
       "    player_id                    name  weight  birth_date  height  \\\n",
       "8   porzikr01      Kristaps Porziņģis     240  1995-08-02      87   \n",
       "13  caulewi01     Willie Cauley-Stein     240  1993-08-18      84   \n",
       "14  kiddgmi01  Michael Kidd-Gilchrist     232  1993-09-26      78   \n",
       "\n",
       "                 nationality team_abbreviation  most_recent_season  \\\n",
       "8                     Latvia               NaN              2019.0   \n",
       "13  United States of America               TOT              2019.0   \n",
       "14  United States of America               TOT              2019.0   \n",
       "\n",
       "    box_plus_minus  games_played  games_started  player_efficiency_rating  \\\n",
       "8              NaN           NaN            NaN                       NaN   \n",
       "13             0.1         349.0          238.0                      17.0   \n",
       "14            -1.8         442.0          356.0                      13.5   \n",
       "\n",
       "    three_point_percentage  true_shooting_percentage  two_point_attempts  \\\n",
       "8                      NaN                       NaN                 NaN   \n",
       "13                   0.211                     0.559              2617.0   \n",
       "14                   0.272                     0.524              2976.0   \n",
       "\n",
       "    two_point_percentage  two_pointers  \n",
       "8                    NaN           NaN  \n",
       "13                 0.541        1417.0  \n",
       "14                 0.481        1431.0  "
      ]
     },
     "execution_count": 123,
     "metadata": {},
     "output_type": "execute_result"
    }
   ],
   "source": [
    "sample_df[:3]"
   ]
  },
  {
   "cell_type": "markdown",
   "metadata": {},
   "source": [
    "### Exploring the data"
   ]
  },
  {
   "cell_type": "markdown",
   "metadata": {},
   "source": [
    "Ok, now let's take a look at the mean and standard deviation."
   ]
  },
  {
   "cell_type": "code",
   "execution_count": 128,
   "metadata": {},
   "outputs": [],
   "source": [
    "height = sample_df['height']"
   ]
  },
  {
   "cell_type": "code",
   "execution_count": 132,
   "metadata": {},
   "outputs": [
    {
     "data": {
      "text/plain": [
       "89"
      ]
     },
     "execution_count": 132,
     "metadata": {},
     "output_type": "execute_result"
    }
   ],
   "source": [
    "height.max()"
   ]
  },
  {
   "cell_type": "code",
   "execution_count": 133,
   "metadata": {},
   "outputs": [
    {
     "data": {
      "text/plain": [
       "71"
      ]
     },
     "execution_count": 133,
     "metadata": {},
     "output_type": "execute_result"
    }
   ],
   "source": [
    "height.min()"
   ]
  },
  {
   "cell_type": "code",
   "execution_count": 134,
   "metadata": {},
   "outputs": [
    {
     "data": {
      "text/plain": [
       "<matplotlib.axes._subplots.AxesSubplot at 0x1141bd190>"
      ]
     },
     "execution_count": 134,
     "metadata": {},
     "output_type": "execute_result"
    },
    {
     "data": {
      "image/png": "[encoded data removed]",
      "text/plain": [
       "<Figure size 432x288 with 1 Axes>"
      ]
     },
     "metadata": {
      "needs_background": "light"
     },
     "output_type": "display_data"
    }
   ],
   "source": [
    "import matplotlib.pyplot as plt\n",
    "fig = plt.figure()\n",
    "ax = fig.add_subplot(111)\n",
    "ax.set_title('player heights')\n",
    "height.hist(ax = ax, bins = 18)"
   ]
  },
  {
   "cell_type": "markdown",
   "metadata": {},
   "source": [
    "Now the above graph plots the \n",
    "\n",
    "but we tend to not really believe it.\n",
    "\n",
    "Instead, we have some off the shelf distributions that we can use, based on both what we observe in the sample, and what we know about the underlying process that produces the variation in our variable.  \n",
    "\n",
    "In this case, we can take information from our sample, above and use it to create a normal distribution with mean equal to the sample mean, and standard deviation equal to the sample standard devation."
   ]
  },
  {
   "cell_type": "code",
   "execution_count": 136,
   "metadata": {},
   "outputs": [
    {
     "data": {
      "text/plain": [
       "78.99"
      ]
     },
     "execution_count": 136,
     "metadata": {},
     "output_type": "execute_result"
    }
   ],
   "source": [
    "height.mean()"
   ]
  },
  {
   "cell_type": "code",
   "execution_count": 137,
   "metadata": {},
   "outputs": [
    {
     "data": {
      "text/plain": [
       "3.583054957474533"
      ]
     },
     "execution_count": 137,
     "metadata": {},
     "output_type": "execute_result"
    }
   ],
   "source": [
    "height.std()"
   ]
  },
  {
   "cell_type": "code",
   "execution_count": 166,
   "metadata": {},
   "outputs": [],
   "source": [
    "import scipy.stats as stats\n",
    "norm_nba_heights = stats.norm(79, 3.58)"
   ]
  },
  {
   "cell_type": "code",
   "execution_count": 170,
   "metadata": {},
   "outputs": [],
   "source": [
    "x = np.linspace(norm_nba_heights.ppf(0.01), norm_nba_heights.ppf(0.99), 100)\n",
    "pdf_nums = norm.pdf(x, loc=height.mean(), scale=height.std())"
   ]
  },
  {
   "cell_type": "markdown",
   "metadata": {},
   "source": [
    "Then we can plot this distribution."
   ]
  },
  {
   "cell_type": "code",
   "execution_count": 175,
   "metadata": {},
   "outputs": [
    {
     "data": {
      "text/plain": [
       "[<matplotlib.lines.Line2D at 0x1a1b220f90>]"
      ]
     },
     "execution_count": 175,
     "metadata": {},
     "output_type": "execute_result"
    },
    {
     "data": {
      "image/png": "[encoded data removed]",
      "text/plain": [
       "<Figure size 432x288 with 1 Axes>"
      ]
     },
     "metadata": {
      "needs_background": "light"
     },
     "output_type": "display_data"
    }
   ],
   "source": [
    "from scipy.stats import norm\n",
    "import matplotlib.pyplot as plt\n",
    "fig = plt.figure()\n",
    "ax = fig.add_subplot(111)\n",
    "ax.set_title('model of player heights')\n",
    "ax.plot(x, pdf_nums,\n",
    "'r-', lw=5, alpha=0.6, label='norm pdf')"
   ]
  },
  {
   "cell_type": "code",
   "execution_count": 204,
   "metadata": {},
   "outputs": [
    {
     "data": {
      "text/plain": [
       "array([16, 12,  9, 11,  4, 10,  5,  0,  2,  7,  1,  6,  8,  3, 15, 14, 13])"
      ]
     },
     "execution_count": 204,
     "metadata": {},
     "output_type": "execute_result"
    }
   ],
   "source": [
    "idcs = height.value_counts().index.argsort()\n",
    "idcs"
   ]
  },
  {
   "cell_type": "code",
   "execution_count": 213,
   "metadata": {},
   "outputs": [],
   "source": [
    "freq_dist = height.value_counts(normalize = True).iloc[idcs]"
   ]
  },
  {
   "cell_type": "code",
   "execution_count": 219,
   "metadata": {},
   "outputs": [
    {
     "data": {
      "text/plain": [
       "[<matplotlib.lines.Line2D at 0x1a1b6e0cd0>]"
      ]
     },
     "execution_count": 219,
     "metadata": {},
     "output_type": "execute_result"
    },
    {
     "data": {
      "image/png": "[encoded data removed]",
      "text/plain": [
       "<Figure size 432x288 with 1 Axes>"
      ]
     },
     "metadata": {
      "needs_background": "light"
     },
     "output_type": "display_data"
    }
   ],
   "source": [
    "from scipy.stats import norm\n",
    "import matplotlib.pyplot as plt\n",
    "fig = plt.figure()\n",
    "ax = fig.add_subplot(111)\n",
    "ax.set_title('model of player heights')\n",
    "ax.bar(freq_dist.index, freq_dist.values)\n",
    "ax.plot(x, pdf_nums,\n",
    "'r-', lw=5, alpha=0.6, label='norm pdf')"
   ]
  },
  {
   "cell_type": "markdown",
   "metadata": {},
   "source": [
    "### PDF and CDF"
   ]
  },
  {
   "cell_type": "code",
   "execution_count": null,
   "metadata": {},
   "outputs": [],
   "source": []
  }
 ],
 "metadata": {
  "kernelspec": {
   "display_name": "Python 3",
   "language": "python",
   "name": "python3"
  },
  "language_info": {
   "codemirror_mode": {
    "name": "ipython",
    "version": 3
   },
   "file_extension": ".py",
   "mimetype": "text/x-python",
   "name": "python",
   "nbconvert_exporter": "python",
   "pygments_lexer": "ipython3",
   "version": "3.7.4"
  }
 },
 "nbformat": 4,
 "nbformat_minor": 4
}
