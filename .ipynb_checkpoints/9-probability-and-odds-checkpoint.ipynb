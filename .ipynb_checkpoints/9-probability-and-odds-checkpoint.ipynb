{
 "cells": [
  {
   "cell_type": "markdown",
   "metadata": {},
   "source": [
    "Probability and odds"
   ]
  },
  {
   "cell_type": "markdown",
   "metadata": {},
   "source": [
    "* Can use the odds ratio\n",
    "    * Odds, if we give you probability you can compute odds, and if give odds, can compute probability."
   ]
  },
  {
   "cell_type": "markdown",
   "metadata": {},
   "source": [
    "odds = p/(1-p)"
   ]
  },
  {
   "cell_type": "markdown",
   "metadata": {},
   "source": [
    "* $p_1 = .03$\n",
    "* $p_2 = .17$"
   ]
  },
  {
   "cell_type": "markdown",
   "metadata": {},
   "source": [
    "* $o_1 = .0309$\n",
    "* $o_2 = .2048$"
   ]
  },
  {
   "cell_type": "markdown",
   "metadata": {},
   "source": [
    "o_1 / o_2"
   ]
  },
  {
   "cell_type": "markdown",
   "metadata": {},
   "source": [
    "* log odds ratio\n",
    "    * This is .82"
   ]
  },
  {
   "cell_type": "markdown",
   "metadata": {},
   "source": [
    "To express effect size, there is not a great way to do this."
   ]
  },
  {
   "cell_type": "markdown",
   "metadata": {},
   "source": [
    "* The log odds ratio, is the bayes factor"
   ]
  },
  {
   "cell_type": "code",
   "execution_count": null,
   "metadata": {},
   "outputs": [],
   "source": []
  }
 ],
 "metadata": {
  "kernelspec": {
   "display_name": "Python 3",
   "language": "python",
   "name": "python3"
  },
  "language_info": {
   "codemirror_mode": {
    "name": "ipython",
    "version": 3
   },
   "file_extension": ".py",
   "mimetype": "text/x-python",
   "name": "python",
   "nbconvert_exporter": "python",
   "pygments_lexer": "ipython3",
   "version": "3.7.4"
  }
 },
 "nbformat": 4,
 "nbformat_minor": 4
}
