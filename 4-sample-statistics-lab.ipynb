{
 "cells": [
  {
   "cell_type": "markdown",
   "metadata": {},
   "source": [
    "# Sample Statistics through Resampling"
   ]
  },
  {
   "cell_type": "markdown",
   "metadata": {},
   "source": [
    "### Introduction"
   ]
  },
  {
   "cell_type": "markdown",
   "metadata": {},
   "source": [
    "### Loading our Sample"
   ]
  },
  {
   "cell_type": "code",
   "execution_count": 1,
   "metadata": {},
   "outputs": [],
   "source": [
    "import pandas as pd\n",
    "url = \"gs://curriculum-assets/mod-2/NYC_Regents_Exam_Results.csv\"\n",
    "df = pd.read_csv(url, index_col = 0)"
   ]
  },
  {
   "cell_type": "code",
   "execution_count": 8,
   "metadata": {},
   "outputs": [
    {
     "data": {
      "text/plain": [
       "Index(['School DBN', 'School Name', 'School Type', 'School Level',\n",
       "       'Regents Exam', 'Year', 'Category', 'Total Tested', 'Mean Score',\n",
       "       'Number Scoring Below 65', 'Percent Scoring Below 65',\n",
       "       'Number Scoring 65 or Above', 'Percent Scoring 65 or Above',\n",
       "       'Number Scoring 80 or Above', 'Percent Scoring 80 or Above',\n",
       "       'Number Scoring CR', 'Percent Scoring CR'],\n",
       "      dtype='object')"
      ]
     },
     "execution_count": 8,
     "metadata": {},
     "output_type": "execute_result"
    }
   ],
   "source": [
    "df.columns"
   ]
  },
  {
   "cell_type": "code",
   "execution_count": 10,
   "metadata": {},
   "outputs": [
    {
     "data": {
      "text/plain": [
       "2016    7555\n",
       "2015    7103\n",
       "2017    6177\n",
       "2019    6163\n",
       "2018    6033\n",
       "Name: Year, dtype: int64"
      ]
     },
     "execution_count": 10,
     "metadata": {},
     "output_type": "execute_result"
    }
   ],
   "source": [
    "df['Year'].value_counts()"
   ]
  },
  {
   "cell_type": "code",
   "execution_count": 13,
   "metadata": {},
   "outputs": [
    {
     "data": {
      "text/plain": [
       "High school                        3995\n",
       "Secondary School                    895\n",
       "Junior High-Intermediate-Middle     643\n",
       "K-8                                 314\n",
       "K-12 all grades                     313\n",
       "Ungraded                              2\n",
       "Elementary                            1\n",
       "Name: School Level, dtype: int64"
      ]
     },
     "execution_count": 13,
     "metadata": {},
     "output_type": "execute_result"
    }
   ],
   "source": [
    "df[df['Year'] == 2019]['School Level'].value_counts()"
   ]
  },
  {
   "cell_type": "code",
   "execution_count": 34,
   "metadata": {},
   "outputs": [],
   "source": [
    "\n",
    "selected_df = df[(df['Year'] == 2019) & (df['School Level'] == 'High school') & (df['Regents Exam'] == 'Common Core Algebra')] "
   ]
  },
  {
   "cell_type": "code",
   "execution_count": 35,
   "metadata": {},
   "outputs": [
    {
     "data": {
      "text/plain": [
       "(424, 17)"
      ]
     },
     "execution_count": 35,
     "metadata": {},
     "output_type": "execute_result"
    }
   ],
   "source": [
    "selected_df.shape"
   ]
  },
  {
   "cell_type": "code",
   "execution_count": 36,
   "metadata": {},
   "outputs": [
    {
     "data": {
      "text/plain": [
       "17"
      ]
     },
     "execution_count": 36,
     "metadata": {},
     "output_type": "execute_result"
    }
   ],
   "source": [
    "(selected_df['Mean Score'] == 's').sum()"
   ]
  },
  {
   "cell_type": "markdown",
   "metadata": {},
   "source": [
    "> We see that we have 17 missing values. "
   ]
  },
  {
   "cell_type": "code",
   "execution_count": 37,
   "metadata": {},
   "outputs": [
    {
     "data": {
      "text/plain": [
       "0.04009433962264151"
      ]
     },
     "execution_count": 37,
     "metadata": {},
     "output_type": "execute_result"
    }
   ],
   "source": [
    "17/424"
   ]
  },
  {
   "cell_type": "markdown",
   "metadata": {},
   "source": [
    "### Computing Sample Statistics"
   ]
  },
  {
   "cell_type": "markdown",
   "metadata": {},
   "source": [
    "From this let's draw a sample and compute some sample statistics.  We'll sample 100 schools from our dataset."
   ]
  },
  {
   "cell_type": "markdown",
   "metadata": {},
   "source": [
    "Let's remove from the dataset those who have a value of `s`, as we will not be able to calculate statistics from these schools."
   ]
  },
  {
   "cell_type": "code",
   "execution_count": 45,
   "metadata": {},
   "outputs": [
    {
     "data": {
      "text/plain": [
       "(424, 17)"
      ]
     },
     "execution_count": 45,
     "metadata": {},
     "output_type": "execute_result"
    }
   ],
   "source": [
    "selected_df.shape"
   ]
  },
  {
   "cell_type": "code",
   "execution_count": 46,
   "metadata": {},
   "outputs": [],
   "source": [
    "reduced_df = selected_df[~(selected_df['Mean Score'] == 's')]"
   ]
  },
  {
   "cell_type": "code",
   "execution_count": 47,
   "metadata": {},
   "outputs": [
    {
     "data": {
      "text/plain": [
       "(407, 17)"
      ]
     },
     "execution_count": 47,
     "metadata": {},
     "output_type": "execute_result"
    }
   ],
   "source": [
    "reduced_df.shape\n",
    "# (407, 17)"
   ]
  },
  {
   "cell_type": "code",
   "execution_count": 51,
   "metadata": {},
   "outputs": [],
   "source": [
    "sampled_df = reduced_df.sample(n=100, random_state=1)"
   ]
  },
  {
   "cell_type": "code",
   "execution_count": 52,
   "metadata": {},
   "outputs": [
    {
     "data": {
      "text/plain": [
       "(100, 17)"
      ]
     },
     "execution_count": 52,
     "metadata": {},
     "output_type": "execute_result"
    }
   ],
   "source": [
    "sampled_df.shape"
   ]
  },
  {
   "cell_type": "code",
   "execution_count": 53,
   "metadata": {},
   "outputs": [
    {
     "data": {
      "text/html": [
       "<div>\n",
       "<style scoped>\n",
       "    .dataframe tbody tr th:only-of-type {\n",
       "        vertical-align: middle;\n",
       "    }\n",
       "\n",
       "    .dataframe tbody tr th {\n",
       "        vertical-align: top;\n",
       "    }\n",
       "\n",
       "    .dataframe thead th {\n",
       "        text-align: right;\n",
       "    }\n",
       "</style>\n",
       "<table border=\"1\" class=\"dataframe\">\n",
       "  <thead>\n",
       "    <tr style=\"text-align: right;\">\n",
       "      <th></th>\n",
       "      <th>School DBN</th>\n",
       "      <th>School Name</th>\n",
       "      <th>School Type</th>\n",
       "      <th>School Level</th>\n",
       "      <th>Regents Exam</th>\n",
       "      <th>Year</th>\n",
       "      <th>Category</th>\n",
       "      <th>Total Tested</th>\n",
       "      <th>Mean Score</th>\n",
       "      <th>Number Scoring Below 65</th>\n",
       "      <th>Percent Scoring Below 65</th>\n",
       "      <th>Number Scoring 65 or Above</th>\n",
       "      <th>Percent Scoring 65 or Above</th>\n",
       "      <th>Number Scoring 80 or Above</th>\n",
       "      <th>Percent Scoring 80 or Above</th>\n",
       "      <th>Number Scoring CR</th>\n",
       "      <th>Percent Scoring CR</th>\n",
       "    </tr>\n",
       "    <tr>\n",
       "      <th>Unnamed Column</th>\n",
       "      <th></th>\n",
       "      <th></th>\n",
       "      <th></th>\n",
       "      <th></th>\n",
       "      <th></th>\n",
       "      <th></th>\n",
       "      <th></th>\n",
       "      <th></th>\n",
       "      <th></th>\n",
       "      <th></th>\n",
       "      <th></th>\n",
       "      <th></th>\n",
       "      <th></th>\n",
       "      <th></th>\n",
       "      <th></th>\n",
       "      <th></th>\n",
       "      <th></th>\n",
       "    </tr>\n",
       "  </thead>\n",
       "  <tbody>\n",
       "    <tr>\n",
       "      <th>31R0642019All StudentsCommon Core Algebra</th>\n",
       "      <td>31R064</td>\n",
       "      <td>Gaynor McCown Expeditionary Learning School</td>\n",
       "      <td>General Academic</td>\n",
       "      <td>High school</td>\n",
       "      <td>Common Core Algebra</td>\n",
       "      <td>2019</td>\n",
       "      <td>All Students</td>\n",
       "      <td>122</td>\n",
       "      <td>69.8</td>\n",
       "      <td>37</td>\n",
       "      <td>30.3</td>\n",
       "      <td>85</td>\n",
       "      <td>69.7</td>\n",
       "      <td>35</td>\n",
       "      <td>28.7</td>\n",
       "      <td>73</td>\n",
       "      <td>59.8</td>\n",
       "    </tr>\n",
       "    <tr>\n",
       "      <th>03M3072019All StudentsCommon Core Algebra</th>\n",
       "      <td>03M307</td>\n",
       "      <td>Urban Assembly School for Media Studies, The</td>\n",
       "      <td>General Academic</td>\n",
       "      <td>High school</td>\n",
       "      <td>Common Core Algebra</td>\n",
       "      <td>2019</td>\n",
       "      <td>All Students</td>\n",
       "      <td>136</td>\n",
       "      <td>62.4</td>\n",
       "      <td>67</td>\n",
       "      <td>49.3</td>\n",
       "      <td>69</td>\n",
       "      <td>50.7</td>\n",
       "      <td>4</td>\n",
       "      <td>2.9</td>\n",
       "      <td>46</td>\n",
       "      <td>33.8</td>\n",
       "    </tr>\n",
       "  </tbody>\n",
       "</table>\n",
       "</div>"
      ],
      "text/plain": [
       "                                          School DBN  \\\n",
       "Unnamed Column                                         \n",
       "31R0642019All StudentsCommon Core Algebra     31R064   \n",
       "03M3072019All StudentsCommon Core Algebra     03M307   \n",
       "\n",
       "                                                                            School Name  \\\n",
       "Unnamed Column                                                                            \n",
       "31R0642019All StudentsCommon Core Algebra   Gaynor McCown Expeditionary Learning School   \n",
       "03M3072019All StudentsCommon Core Algebra  Urban Assembly School for Media Studies, The   \n",
       "\n",
       "                                                School Type School Level  \\\n",
       "Unnamed Column                                                             \n",
       "31R0642019All StudentsCommon Core Algebra  General Academic  High school   \n",
       "03M3072019All StudentsCommon Core Algebra  General Academic  High school   \n",
       "\n",
       "                                                  Regents Exam  Year  \\\n",
       "Unnamed Column                                                         \n",
       "31R0642019All StudentsCommon Core Algebra  Common Core Algebra  2019   \n",
       "03M3072019All StudentsCommon Core Algebra  Common Core Algebra  2019   \n",
       "\n",
       "                                               Category  Total Tested  \\\n",
       "Unnamed Column                                                          \n",
       "31R0642019All StudentsCommon Core Algebra  All Students           122   \n",
       "03M3072019All StudentsCommon Core Algebra  All Students           136   \n",
       "\n",
       "                                          Mean Score Number Scoring Below 65  \\\n",
       "Unnamed Column                                                                 \n",
       "31R0642019All StudentsCommon Core Algebra       69.8                      37   \n",
       "03M3072019All StudentsCommon Core Algebra       62.4                      67   \n",
       "\n",
       "                                          Percent Scoring Below 65  \\\n",
       "Unnamed Column                                                       \n",
       "31R0642019All StudentsCommon Core Algebra                     30.3   \n",
       "03M3072019All StudentsCommon Core Algebra                     49.3   \n",
       "\n",
       "                                          Number Scoring 65 or Above  \\\n",
       "Unnamed Column                                                         \n",
       "31R0642019All StudentsCommon Core Algebra                         85   \n",
       "03M3072019All StudentsCommon Core Algebra                         69   \n",
       "\n",
       "                                          Percent Scoring 65 or Above  \\\n",
       "Unnamed Column                                                          \n",
       "31R0642019All StudentsCommon Core Algebra                        69.7   \n",
       "03M3072019All StudentsCommon Core Algebra                        50.7   \n",
       "\n",
       "                                          Number Scoring 80 or Above  \\\n",
       "Unnamed Column                                                         \n",
       "31R0642019All StudentsCommon Core Algebra                         35   \n",
       "03M3072019All StudentsCommon Core Algebra                          4   \n",
       "\n",
       "                                          Percent Scoring 80 or Above  \\\n",
       "Unnamed Column                                                          \n",
       "31R0642019All StudentsCommon Core Algebra                        28.7   \n",
       "03M3072019All StudentsCommon Core Algebra                         2.9   \n",
       "\n",
       "                                          Number Scoring CR Percent Scoring CR  \n",
       "Unnamed Column                                                                  \n",
       "31R0642019All StudentsCommon Core Algebra                73               59.8  \n",
       "03M3072019All StudentsCommon Core Algebra                46               33.8  "
      ]
     },
     "execution_count": 53,
     "metadata": {},
     "output_type": "execute_result"
    }
   ],
   "source": [
    "sampled_df[:2]"
   ]
  },
  {
   "cell_type": "markdown",
   "metadata": {},
   "source": [
    "Now that we have removed missing data and selected our sample, it's time to calculate our sample statistics.  "
   ]
  },
  {
   "cell_type": "markdown",
   "metadata": {},
   "source": [
    "Let's take a look at our dtype of our mean."
   ]
  },
  {
   "cell_type": "code",
   "execution_count": 75,
   "metadata": {},
   "outputs": [
    {
     "data": {
      "text/plain": [
       "dtype('O')"
      ]
     },
     "execution_count": 75,
     "metadata": {},
     "output_type": "execute_result"
    }
   ],
   "source": [
    "hs_avg_series = sampled_df['Mean Score']\n",
    "hs_avg_series.dtype"
   ]
  },
  {
   "cell_type": "markdown",
   "metadata": {},
   "source": [
    "We can see that our mean score is of type object, so let's change it to a numeric datatype."
   ]
  },
  {
   "cell_type": "code",
   "execution_count": 76,
   "metadata": {},
   "outputs": [
    {
     "data": {
      "text/plain": [
       "dtype('float64')"
      ]
     },
     "execution_count": 76,
     "metadata": {},
     "output_type": "execute_result"
    }
   ],
   "source": [
    "hs_avg_series_num = pd.to_numeric(mean_score_series)\n",
    "\n",
    "hs_avg_series_num.dtype\n",
    "# dtype('float64')"
   ]
  },
  {
   "cell_type": "markdown",
   "metadata": {},
   "source": [
    "Let's assign this coerced column to our `sampled_df` change the name of the column to `avg_test_score`, and drop the original `Mean Score` column."
   ]
  },
  {
   "cell_type": "code",
   "execution_count": 119,
   "metadata": {},
   "outputs": [],
   "source": [
    "sampled_df['avg_test_score'] = hs_avg_series_num"
   ]
  },
  {
   "cell_type": "code",
   "execution_count": 123,
   "metadata": {},
   "outputs": [],
   "source": [
    "sampled_df = sampled_df.drop(columns = ['Mean Score'])"
   ]
  },
  {
   "cell_type": "code",
   "execution_count": 124,
   "metadata": {},
   "outputs": [
    {
     "data": {
      "text/plain": [
       "False"
      ]
     },
     "execution_count": 124,
     "metadata": {},
     "output_type": "execute_result"
    }
   ],
   "source": [
    "'Mean Score' in sampled_df.columns"
   ]
  },
  {
   "cell_type": "code",
   "execution_count": 126,
   "metadata": {},
   "outputs": [
    {
     "data": {
      "text/plain": [
       "Unnamed Column\n",
       "31R0642019All StudentsCommon Core Algebra    69.8\n",
       "03M3072019All StudentsCommon Core Algebra    62.4\n",
       "26Q4352019All StudentsCommon Core Algebra    63.5\n",
       "Name: avg_test_score, dtype: float64"
      ]
     },
     "execution_count": 126,
     "metadata": {},
     "output_type": "execute_result"
    }
   ],
   "source": [
    "sampled_df['avg_test_score'][:3]\n",
    "# Unnamed Column\n",
    "# 31R0642019All StudentsCommon Core Algebra    69.8\n",
    "# 03M3072019All StudentsCommon Core Algebra    62.4\n",
    "# 26Q4352019All StudentsCommon Core Algebra    63.5\n",
    "# Name: avg_test_score, dtype: float64\n"
   ]
  },
  {
   "cell_type": "markdown",
   "metadata": {},
   "source": [
    "### Analytic Sample Statistics"
   ]
  },
  {
   "cell_type": "markdown",
   "metadata": {},
   "source": [
    "Let's start by plotting a distribution of the high school avg scores in our sample."
   ]
  },
  {
   "cell_type": "code",
   "execution_count": 88,
   "metadata": {},
   "outputs": [
    {
     "data": {
      "text/plain": [
       "<matplotlib.axes._subplots.AxesSubplot at 0x11cbf2ad0>"
      ]
     },
     "execution_count": 88,
     "metadata": {},
     "output_type": "execute_result"
    },
    {
     "data": {
      "image/png": "[encoded data removed]",
      "text/plain": [
       "<Figure size 432x288 with 1 Axes>"
      ]
     },
     "metadata": {
      "needs_background": "light"
     },
     "output_type": "display_data"
    }
   ],
   "source": [
    "import matplotlib.pyplot as plt\n",
    "fig = plt.figure()\n",
    "ax = fig.add_subplot(111)\n",
    "ax.set(title = 'avg algebra scores', xlabel = 'avg scores', ylabel = 'count')\n",
    "hs_avg_series_num.hist(ax = ax, bins = 40)"
   ]
  },
  {
   "cell_type": "markdown",
   "metadata": {},
   "source": [
    "> Answer: <img src=\"./avg-scores.png\">"
   ]
  },
  {
   "cell_type": "markdown",
   "metadata": {},
   "source": [
    "Ok, now we can calculate the sample mean score on the Core Algebra exam among NYC high schools.  "
   ]
  },
  {
   "cell_type": "code",
   "execution_count": 70,
   "metadata": {},
   "outputs": [
    {
     "data": {
      "text/plain": [
       "65.11899999999997"
      ]
     },
     "execution_count": 70,
     "metadata": {},
     "output_type": "execute_result"
    }
   ],
   "source": [
    "sample_mean = mean_score_ser_num.mean()\n",
    "sample_mean\n",
    "# 65.11"
   ]
  },
  {
   "cell_type": "markdown",
   "metadata": {},
   "source": [
    "And we can calculate the sample standard deviation."
   ]
  },
  {
   "cell_type": "code",
   "execution_count": 71,
   "metadata": {},
   "outputs": [
    {
     "data": {
      "text/plain": [
       "7.90894768824232"
      ]
     },
     "execution_count": 71,
     "metadata": {},
     "output_type": "execute_result"
    }
   ],
   "source": [
    "sample_std = mean_score_ser_num.std()\n",
    "\n",
    "sample_std\n",
    "# 7.908"
   ]
  },
  {
   "cell_type": "markdown",
   "metadata": {},
   "source": [
    "> Remember that by default, pandas will provide a ddof of 1 for the standard deviation."
   ]
  },
  {
   "cell_type": "markdown",
   "metadata": {},
   "source": [
    "Now let's calculate the standard error of the sample means using the analytic approach."
   ]
  },
  {
   "cell_type": "code",
   "execution_count": 72,
   "metadata": {},
   "outputs": [
    {
     "data": {
      "text/plain": [
       "(100,)"
      ]
     },
     "execution_count": 72,
     "metadata": {},
     "output_type": "execute_result"
    }
   ],
   "source": [
    "mean_score_ser_num.shape"
   ]
  },
  {
   "cell_type": "code",
   "execution_count": 139,
   "metadata": {},
   "outputs": [
    {
     "data": {
      "text/plain": [
       "0.790894768824232"
      ]
     },
     "execution_count": 139,
     "metadata": {},
     "output_type": "execute_result"
    }
   ],
   "source": [
    "import numpy as np\n",
    "s_error = sample_std/np.sqrt(100)\n",
    "\n",
    "s_error\n",
    "# 0.790"
   ]
  },
  {
   "cell_type": "markdown",
   "metadata": {},
   "source": [
    "Now it's worth making sure that we understand the difference between the standard error and the standard deviation.  Take a moment to write it down in your own words."
   ]
  },
  {
   "cell_type": "markdown",
   "metadata": {},
   "source": [
    "One more question, what are the two components that the standard error depends on?"
   ]
  },
  {
   "cell_type": "markdown",
   "metadata": {},
   "source": [
    "### Computational Sample Statistics"
   ]
  },
  {
   "cell_type": "markdown",
   "metadata": {},
   "source": [
    "Now let's use a computational approach to finding our sample statistics."
   ]
  },
  {
   "cell_type": "markdown",
   "metadata": {},
   "source": [
    "We can do so by first treating our sample like the underlying population.  Then we create a set of random samples of our sample, calculate a specific sampling specific, and then finding the standard deviation in that sampling statistic to find the standard error.  Let's get started."
   ]
  },
  {
   "cell_type": "markdown",
   "metadata": {},
   "source": [
    "1. Create random samples."
   ]
  },
  {
   "cell_type": "markdown",
   "metadata": {},
   "source": [
    "Use the `np.random.choice` method to sample our data.  Each sample should be the size of our original sample, and we'll choose 1000 samples.  Assign them to the variable sample."
   ]
  },
  {
   "cell_type": "markdown",
   "metadata": {},
   "source": [
    "> First make sure that you understand how `choice` works.  For example we get you started by choosing three numbers between 0 and 99.  You'll want to choose 100 numbers between 0 and 99."
   ]
  },
  {
   "cell_type": "markdown",
   "metadata": {},
   "source": [
    "Assign your samples to the variable samples."
   ]
  },
  {
   "cell_type": "code",
   "execution_count": 127,
   "metadata": {},
   "outputs": [],
   "source": [
    "import numpy as np\n",
    "from numpy import random\n",
    "random.seed(2)\n",
    "# keep the seed in here\n",
    "samples = []\n",
    "for i in range(1000):\n",
    "    sample_idcs = random.choice(100, 100)\n",
    "    sample = sampled_df.iloc[sample_idcs]\n",
    "    samples.append(sample)"
   ]
  },
  {
   "cell_type": "code",
   "execution_count": 128,
   "metadata": {},
   "outputs": [
    {
     "data": {
      "text/plain": [
       "1000"
      ]
     },
     "execution_count": 128,
     "metadata": {},
     "output_type": "execute_result"
    }
   ],
   "source": [
    "len(samples)"
   ]
  },
  {
   "cell_type": "code",
   "execution_count": 131,
   "metadata": {},
   "outputs": [
    {
     "data": {
      "text/plain": [
       "Unnamed Column\n",
       "05M6922019All StudentsCommon Core Algebra    92.8\n",
       "07X4732019All StudentsCommon Core Algebra    59.2\n",
       "05M2852019All StudentsCommon Core Algebra    57.3\n",
       "Name: avg_test_score, dtype: float64"
      ]
     },
     "execution_count": 131,
     "metadata": {},
     "output_type": "execute_result"
    }
   ],
   "source": [
    "samples[0]['avg_test_score'][:3]\n",
    "# \n",
    "# 05M6922019All StudentsCommon Core Algebra    92.8\n",
    "# 07X4732019All StudentsCommon Core Algebra    59.2\n",
    "# 05M2852019All StudentsCommon Core Algebra    57.3\n",
    "# Name: avg_test_score, dtype: float64"
   ]
  },
  {
   "cell_type": "markdown",
   "metadata": {},
   "source": [
    "Next, let's calculate the mean for each of these samples."
   ]
  },
  {
   "cell_type": "code",
   "execution_count": 142,
   "metadata": {},
   "outputs": [],
   "source": [
    "sample_means = [sample['avg_test_score'].mean() for sample in samples]"
   ]
  },
  {
   "cell_type": "code",
   "execution_count": 144,
   "metadata": {},
   "outputs": [
    {
     "data": {
      "text/plain": [
       "[65.21399999999998, 65.87399999999998]"
      ]
     },
     "execution_count": 144,
     "metadata": {},
     "output_type": "execute_result"
    }
   ],
   "source": [
    "sample_means[:2]\n",
    "# [65.21399999999998, 65.87399999999998]"
   ]
  },
  {
   "cell_type": "markdown",
   "metadata": {},
   "source": [
    "Now calculate a mean of means, and a standard error."
   ]
  },
  {
   "cell_type": "code",
   "execution_count": 146,
   "metadata": {},
   "outputs": [
    {
     "data": {
      "text/plain": [
       "65.12538799999997"
      ]
     },
     "execution_count": 146,
     "metadata": {},
     "output_type": "execute_result"
    }
   ],
   "source": [
    "compuational_mean = np.mean(sample_means)\n",
    "compuational_mean\n",
    "# 65.12"
   ]
  },
  {
   "cell_type": "code",
   "execution_count": 148,
   "metadata": {},
   "outputs": [
    {
     "data": {
      "text/plain": [
       "0.7785846039166192"
      ]
     },
     "execution_count": 148,
     "metadata": {},
     "output_type": "execute_result"
    }
   ],
   "source": [
    "compuational_se = np.std(sample_means)\n",
    "compuational_se\n",
    "# 0.7785"
   ]
  },
  {
   "cell_type": "markdown",
   "metadata": {},
   "source": [
    "Compare this to our analytic calculation of `0.790`.\n"
   ]
  },
  {
   "cell_type": "markdown",
   "metadata": {},
   "source": [
    "Finally, let's see how we did against the underlying population."
   ]
  },
  {
   "cell_type": "code",
   "execution_count": 151,
   "metadata": {},
   "outputs": [
    {
     "data": {
      "text/plain": [
       "64.69803439803445"
      ]
     },
     "execution_count": 151,
     "metadata": {},
     "output_type": "execute_result"
    }
   ],
   "source": [
    "pd.to_numeric(reduced_df['Mean Score']).mean()\n",
    "\n",
    "# 64.69"
   ]
  },
  {
   "cell_type": "code",
   "execution_count": 152,
   "metadata": {},
   "outputs": [
    {
     "data": {
      "text/plain": [
       "0.4300000000000068"
      ]
     },
     "execution_count": 152,
     "metadata": {},
     "output_type": "execute_result"
    }
   ],
   "source": [
    "65.12 - 64.69"
   ]
  },
  {
   "cell_type": "markdown",
   "metadata": {},
   "source": [
    "### Resources"
   ]
  },
  {
   "cell_type": "markdown",
   "metadata": {},
   "source": [
    "[Sports Reference](https://sportsreference.readthedocs.io/en/stable/)"
   ]
  },
  {
   "cell_type": "markdown",
   "metadata": {},
   "source": [
    "[Degrees of Freedom](https://blog.minitab.com/blog/statistics-and-quality-data-analysis/what-are-degrees-of-freedom-in-statistics)"
   ]
  }
 ],
 "metadata": {
  "kernelspec": {
   "display_name": "Python 3",
   "language": "python",
   "name": "python3"
  },
  "language_info": {
   "codemirror_mode": {
    "name": "ipython",
    "version": 3
   },
   "file_extension": ".py",
   "mimetype": "text/x-python",
   "name": "python",
   "nbconvert_exporter": "python",
   "pygments_lexer": "ipython3",
   "version": "3.7.4"
  }
 },
 "nbformat": 4,
 "nbformat_minor": 4
}
