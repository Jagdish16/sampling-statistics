{
 "cells": [
  {
   "cell_type": "markdown",
   "metadata": {},
   "source": [
    "# Finding a Sampling Frame"
   ]
  },
  {
   "cell_type": "markdown",
   "metadata": {},
   "source": [
    "### Introduction"
   ]
  },
  {
   "cell_type": "markdown",
   "metadata": {},
   "source": [
    "In this lesson, we'll see how we can make inferences about the underlying population, once we draw a representative sample.  Remember that when we are doing a survey, it is rare for us to have all of the information we need on the underlying population.  So we must rely on inferences about the underlying population from sampling."
   ]
  },
  {
   "cell_type": "markdown",
   "metadata": {},
   "source": [
    "### Constructing a Sample"
   ]
  },
  {
   "cell_type": "markdown",
   "metadata": {},
   "source": [
    "With our NBA players, we purport to have the underlying population.  We gathered the data from Sports Reference data.  Let's load up our data, and check to see if lines up to what we know about the underlying population."
   ]
  },
  {
   "cell_type": "code",
   "execution_count": 1,
   "metadata": {},
   "outputs": [],
   "source": [
    "import pandas as pd\n",
    "url = \"https://raw.githubusercontent.com/jigsawlabs-student/sampling-statistics/master/nba_combined.csv\"\n",
    "players_df = pd.read_csv(url, index_col = 0)"
   ]
  },
  {
   "cell_type": "code",
   "execution_count": 54,
   "metadata": {},
   "outputs": [
    {
     "data": {
      "text/html": [
       "<div>\n",
       "<style scoped>\n",
       "    .dataframe tbody tr th:only-of-type {\n",
       "        vertical-align: middle;\n",
       "    }\n",
       "\n",
       "    .dataframe tbody tr th {\n",
       "        vertical-align: top;\n",
       "    }\n",
       "\n",
       "    .dataframe thead th {\n",
       "        text-align: right;\n",
       "    }\n",
       "</style>\n",
       "<table border=\"1\" class=\"dataframe\">\n",
       "  <thead>\n",
       "    <tr style=\"text-align: right;\">\n",
       "      <th></th>\n",
       "      <th>player_id</th>\n",
       "      <th>name</th>\n",
       "      <th>weight</th>\n",
       "      <th>birth_date</th>\n",
       "      <th>height</th>\n",
       "      <th>nationality</th>\n",
       "      <th>team_abbreviation</th>\n",
       "      <th>most_recent_season</th>\n",
       "      <th>box_plus_minus</th>\n",
       "      <th>games_played</th>\n",
       "      <th>...</th>\n",
       "      <th>total_rebounds</th>\n",
       "      <th>turnovers</th>\n",
       "      <th>position</th>\n",
       "      <th>points</th>\n",
       "      <th>three_pointers</th>\n",
       "      <th>free_throw_percentage</th>\n",
       "      <th>assists</th>\n",
       "      <th>three_point_attempts</th>\n",
       "      <th>steals</th>\n",
       "      <th>blocks</th>\n",
       "    </tr>\n",
       "  </thead>\n",
       "  <tbody>\n",
       "    <tr>\n",
       "      <th>0</th>\n",
       "      <td>klebima01</td>\n",
       "      <td>Maxi Kleber</td>\n",
       "      <td>240</td>\n",
       "      <td>1992-01-29</td>\n",
       "      <td>82</td>\n",
       "      <td>Germany</td>\n",
       "      <td>DAL</td>\n",
       "      <td>2019.0</td>\n",
       "      <td>0.3</td>\n",
       "      <td>209.0</td>\n",
       "      <td>...</td>\n",
       "      <td>355.0</td>\n",
       "      <td>48.0</td>\n",
       "      <td>C</td>\n",
       "      <td>604.0</td>\n",
       "      <td>107.0</td>\n",
       "      <td>0.863</td>\n",
       "      <td>77.0</td>\n",
       "      <td>286.0</td>\n",
       "      <td>20.0</td>\n",
       "      <td>78.0</td>\n",
       "    </tr>\n",
       "    <tr>\n",
       "      <th>1</th>\n",
       "      <td>wrighde01</td>\n",
       "      <td>Delon Wright</td>\n",
       "      <td>183</td>\n",
       "      <td>1992-04-26</td>\n",
       "      <td>77</td>\n",
       "      <td>United States of America</td>\n",
       "      <td>DAL</td>\n",
       "      <td>2019.0</td>\n",
       "      <td>2.2</td>\n",
       "      <td>263.0</td>\n",
       "      <td>...</td>\n",
       "      <td>259.0</td>\n",
       "      <td>68.0</td>\n",
       "      <td>SG</td>\n",
       "      <td>474.0</td>\n",
       "      <td>45.0</td>\n",
       "      <td>0.789</td>\n",
       "      <td>220.0</td>\n",
       "      <td>117.0</td>\n",
       "      <td>76.0</td>\n",
       "      <td>21.0</td>\n",
       "    </tr>\n",
       "    <tr>\n",
       "      <th>2</th>\n",
       "      <td>finnedo01</td>\n",
       "      <td>Dorian Finney-Smith</td>\n",
       "      <td>220</td>\n",
       "      <td>1993-05-04</td>\n",
       "      <td>79</td>\n",
       "      <td>United States of America</td>\n",
       "      <td>DAL</td>\n",
       "      <td>2019.0</td>\n",
       "      <td>-1.6</td>\n",
       "      <td>247.0</td>\n",
       "      <td>...</td>\n",
       "      <td>352.0</td>\n",
       "      <td>63.0</td>\n",
       "      <td>PF</td>\n",
       "      <td>597.0</td>\n",
       "      <td>99.0</td>\n",
       "      <td>0.722</td>\n",
       "      <td>97.0</td>\n",
       "      <td>265.0</td>\n",
       "      <td>44.0</td>\n",
       "      <td>37.0</td>\n",
       "    </tr>\n",
       "  </tbody>\n",
       "</table>\n",
       "<p>3 rows × 29 columns</p>\n",
       "</div>"
      ],
      "text/plain": [
       "   player_id                 name  weight  birth_date  height  \\\n",
       "0  klebima01          Maxi Kleber     240  1992-01-29      82   \n",
       "1  wrighde01         Delon Wright     183  1992-04-26      77   \n",
       "2  finnedo01  Dorian Finney-Smith     220  1993-05-04      79   \n",
       "\n",
       "                nationality team_abbreviation  most_recent_season  \\\n",
       "0                   Germany               DAL              2019.0   \n",
       "1  United States of America               DAL              2019.0   \n",
       "2  United States of America               DAL              2019.0   \n",
       "\n",
       "   box_plus_minus  games_played  ...  total_rebounds  turnovers  position  \\\n",
       "0             0.3         209.0  ...           355.0       48.0         C   \n",
       "1             2.2         263.0  ...           259.0       68.0        SG   \n",
       "2            -1.6         247.0  ...           352.0       63.0        PF   \n",
       "\n",
       "   points  three_pointers  free_throw_percentage  assists  \\\n",
       "0   604.0           107.0                  0.863     77.0   \n",
       "1   474.0            45.0                  0.789    220.0   \n",
       "2   597.0            99.0                  0.722     97.0   \n",
       "\n",
       "   three_point_attempts steals  blocks  \n",
       "0                 286.0   20.0    78.0  \n",
       "1                 117.0   76.0    21.0  \n",
       "2                 265.0   44.0    37.0  \n",
       "\n",
       "[3 rows x 29 columns]"
      ]
     },
     "execution_count": 54,
     "metadata": {},
     "output_type": "execute_result"
    }
   ],
   "source": [
    "players_df.loc[3]"
   ]
  },
  {
   "cell_type": "code",
   "execution_count": 6,
   "metadata": {},
   "outputs": [
    {
     "data": {
      "text/plain": [
       "(496, 29)"
      ]
     },
     "execution_count": 6,
     "metadata": {},
     "output_type": "execute_result"
    }
   ],
   "source": [
    "df.shape"
   ]
  },
  {
   "cell_type": "markdown",
   "metadata": {},
   "source": [
    "We check the shape of the data and see that there are 496 observations.  Let's see if that lines up with the underlying population.  We can get to the underlying population by looking at the number of the teams in the league, and then multiplying by the amount of players."
   ]
  },
  {
   "cell_type": "code",
   "execution_count": 27,
   "metadata": {},
   "outputs": [],
   "source": [
    "dfs = pd.read_html('https://www.espn.com/nba/standings/_/group/league', header = None)"
   ]
  },
  {
   "cell_type": "code",
   "execution_count": 28,
   "metadata": {},
   "outputs": [
    {
     "data": {
      "text/html": [
       "<div>\n",
       "<style scoped>\n",
       "    .dataframe tbody tr th:only-of-type {\n",
       "        vertical-align: middle;\n",
       "    }\n",
       "\n",
       "    .dataframe tbody tr th {\n",
       "        vertical-align: top;\n",
       "    }\n",
       "\n",
       "    .dataframe thead th {\n",
       "        text-align: right;\n",
       "    }\n",
       "</style>\n",
       "<table border=\"1\" class=\"dataframe\">\n",
       "  <thead>\n",
       "    <tr style=\"text-align: right;\">\n",
       "      <th></th>\n",
       "      <th>x --MILMilwaukee Bucks</th>\n",
       "    </tr>\n",
       "  </thead>\n",
       "  <tbody>\n",
       "    <tr>\n",
       "      <th>0</th>\n",
       "      <td>x --LALLos Angeles Lakers</td>\n",
       "    </tr>\n",
       "    <tr>\n",
       "      <th>1</th>\n",
       "      <td>x --TORToronto Raptors</td>\n",
       "    </tr>\n",
       "    <tr>\n",
       "      <th>2</th>\n",
       "      <td>LACLA Clippers</td>\n",
       "    </tr>\n",
       "  </tbody>\n",
       "</table>\n",
       "</div>"
      ],
      "text/plain": [
       "      x --MILMilwaukee Bucks\n",
       "0  x --LALLos Angeles Lakers\n",
       "1     x --TORToronto Raptors\n",
       "2             LACLA Clippers"
      ]
     },
     "execution_count": 28,
     "metadata": {},
     "output_type": "execute_result"
    }
   ],
   "source": [
    "standings = dfs[0]\n",
    "standings[:3]"
   ]
  },
  {
   "cell_type": "markdown",
   "metadata": {},
   "source": [
    "Here is a list of teams from the NBA standings.  Now let's look at the shape to see how many teams are in the league."
   ]
  },
  {
   "cell_type": "code",
   "execution_count": 19,
   "metadata": {},
   "outputs": [
    {
     "data": {
      "text/plain": [
       "(29, 1)"
      ]
     },
     "execution_count": 19,
     "metadata": {},
     "output_type": "execute_result"
    }
   ],
   "source": [
    "standings.shape\n",
    "\n",
    "# (29, 1)"
   ]
  },
  {
   "cell_type": "markdown",
   "metadata": {},
   "source": [
    "Here, we see that there are 29 teams in the league.  But a google search will tell us there are 30.  Do you see the error?"
   ]
  },
  {
   "cell_type": "code",
   "execution_count": 20,
   "metadata": {},
   "outputs": [
    {
     "data": {
      "text/html": [
       "<div>\n",
       "<style scoped>\n",
       "    .dataframe tbody tr th:only-of-type {\n",
       "        vertical-align: middle;\n",
       "    }\n",
       "\n",
       "    .dataframe tbody tr th {\n",
       "        vertical-align: top;\n",
       "    }\n",
       "\n",
       "    .dataframe thead th {\n",
       "        text-align: right;\n",
       "    }\n",
       "</style>\n",
       "<table border=\"1\" class=\"dataframe\">\n",
       "  <thead>\n",
       "    <tr style=\"text-align: right;\">\n",
       "      <th></th>\n",
       "      <th>x --MILMilwaukee Bucks</th>\n",
       "    </tr>\n",
       "  </thead>\n",
       "  <tbody>\n",
       "    <tr>\n",
       "      <th>0</th>\n",
       "      <td>x --LALLos Angeles Lakers</td>\n",
       "    </tr>\n",
       "    <tr>\n",
       "      <th>1</th>\n",
       "      <td>x --TORToronto Raptors</td>\n",
       "    </tr>\n",
       "    <tr>\n",
       "      <th>2</th>\n",
       "      <td>LACLA Clippers</td>\n",
       "    </tr>\n",
       "  </tbody>\n",
       "</table>\n",
       "</div>"
      ],
      "text/plain": [
       "      x --MILMilwaukee Bucks\n",
       "0  x --LALLos Angeles Lakers\n",
       "1     x --TORToronto Raptors\n",
       "2             LACLA Clippers"
      ]
     },
     "execution_count": 20,
     "metadata": {},
     "output_type": "execute_result"
    }
   ],
   "source": [
    "standings[:3]"
   ]
  },
  {
   "cell_type": "markdown",
   "metadata": {},
   "source": [
    "Yea, the Milwaukee bucks are included in the header.  Let's change that."
   ]
  },
  {
   "cell_type": "code",
   "execution_count": 44,
   "metadata": {},
   "outputs": [],
   "source": [
    "import numpy as np\n",
    "vals = standings.iloc[:, 0].values\n",
    "updated_vals = np.insert(vals, 0, 'Milwaukee Bucks')"
   ]
  },
  {
   "cell_type": "code",
   "execution_count": 47,
   "metadata": {},
   "outputs": [
    {
     "data": {
      "text/plain": [
       "(30,)"
      ]
     },
     "execution_count": 47,
     "metadata": {},
     "output_type": "execute_result"
    }
   ],
   "source": [
    "teams = pd.Series(updated_vals, name = 'Teams')\n",
    "teams.shape"
   ]
  },
  {
   "cell_type": "markdown",
   "metadata": {},
   "source": [
    "Now we see that there are thirty teams in the NBA.  Let's sample three of them and check the number of players."
   ]
  },
  {
   "cell_type": "code",
   "execution_count": 48,
   "metadata": {},
   "outputs": [
    {
     "data": {
      "text/plain": [
       "17    NONew Orleans Pelicans\n",
       "21     WSHWashington Wizards\n",
       "10         INDIndiana Pacers\n",
       "Name: Teams, dtype: object"
      ]
     },
     "execution_count": 48,
     "metadata": {},
     "output_type": "execute_result"
    }
   ],
   "source": [
    "teams.sample(n=3, random_state=1)"
   ]
  },
  {
   "cell_type": "markdown",
   "metadata": {},
   "source": [
    "* Pelicans: 17 players\n",
    "* Wizards: 17 players\n",
    "* Pacers: 17 players"
   ]
  },
  {
   "cell_type": "markdown",
   "metadata": {},
   "source": [
    "Ok, now let's estimate the number of players in the league."
   ]
  },
  {
   "cell_type": "code",
   "execution_count": 49,
   "metadata": {},
   "outputs": [
    {
     "data": {
      "text/plain": [
       "510"
      ]
     },
     "execution_count": 49,
     "metadata": {},
     "output_type": "execute_result"
    }
   ],
   "source": [
    "17*30"
   ]
  },
  {
   "cell_type": "code",
   "execution_count": 50,
   "metadata": {},
   "outputs": [
    {
     "data": {
      "text/plain": [
       "0.9725490196078431"
      ]
     },
     "execution_count": 50,
     "metadata": {},
     "output_type": "execute_result"
    }
   ],
   "source": [
    "496/510"
   ]
  },
  {
   "cell_type": "markdown",
   "metadata": {},
   "source": [
    "It looks like we have .97 percent of the population, and so can use this as a sampliong frame.  For most studies this is quite good.  And is certainly enough to move forward with a preliminary analysis.  If we continue with the analysis, we may wish to see (1) if there really is missing data (2) where is this missing data, and does it matter (3) if we can correct for this missing data."
   ]
  },
  {
   "cell_type": "markdown",
   "metadata": {},
   "source": [
    "### Sampling From our Dataset"
   ]
  },
  {
   "cell_type": "markdown",
   "metadata": {},
   "source": [
    "Now that we have sampling frame, we can take an randomly sample from the data.  \n",
    "\n",
    "> Now currently we have a lot of underlying data about our population, so we do not need to take a sample.  We would just verify that the population data is accurate and comprehensive, and perform the analysis.\n",
    "\n",
    "But let's keep going, and simulate sampling our underlying population by just taking a sample of our data."
   ]
  },
  {
   "cell_type": "code",
   "execution_count": 55,
   "metadata": {},
   "outputs": [],
   "source": [
    "idcs = players_df.index"
   ]
  },
  {
   "cell_type": "code",
   "execution_count": 58,
   "metadata": {},
   "outputs": [
    {
     "data": {
      "text/plain": [
       "Int64Index([0, 1, 2], dtype='int64')"
      ]
     },
     "execution_count": 58,
     "metadata": {},
     "output_type": "execute_result"
    }
   ],
   "source": [
    "idcs[:3]"
   ]
  },
  {
   "cell_type": "markdown",
   "metadata": {},
   "source": [
    "Here we have a list of all of the indices assigned to each row in our data."
   ]
  },
  {
   "cell_type": "code",
   "execution_count": 62,
   "metadata": {},
   "outputs": [],
   "source": [
    "import numpy as np\n",
    "np.random.seed(3)\n",
    "rand_idcs = np.random.choice(idcs, size=150, replace=False)"
   ]
  },
  {
   "cell_type": "code",
   "execution_count": 66,
   "metadata": {},
   "outputs": [],
   "source": [
    "selected_players = players_df.iloc[rand_idcs, :]"
   ]
  },
  {
   "cell_type": "code",
   "execution_count": 67,
   "metadata": {},
   "outputs": [
    {
     "data": {
      "text/plain": [
       "(150, 29)"
      ]
     },
     "execution_count": 67,
     "metadata": {},
     "output_type": "execute_result"
    }
   ],
   "source": [
    "selected_players.shape"
   ]
  },
  {
   "cell_type": "markdown",
   "metadata": {},
   "source": [
    "Now we have 150 players to reach out to and contact about our data."
   ]
  },
  {
   "cell_type": "markdown",
   "metadata": {},
   "source": [
    "### Resources"
   ]
  },
  {
   "cell_type": "markdown",
   "metadata": {},
   "source": [
    "[Sports Reference](https://sportsreference.readthedocs.io/en/stable/)"
   ]
  }
 ],
 "metadata": {
  "kernelspec": {
   "display_name": "Python 3",
   "language": "python",
   "name": "python3"
  },
  "language_info": {
   "codemirror_mode": {
    "name": "ipython",
    "version": 3
   },
   "file_extension": ".py",
   "mimetype": "text/x-python",
   "name": "python",
   "nbconvert_exporter": "python",
   "pygments_lexer": "ipython3",
   "version": "3.7.4"
  }
 },
 "nbformat": 4,
 "nbformat_minor": 4
}
